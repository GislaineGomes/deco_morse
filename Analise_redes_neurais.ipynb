{
  "cells": [
    {
      "cell_type": "markdown",
      "metadata": {
        "id": "view-in-github",
        "colab_type": "text"
      },
      "source": [
        "<a href=\"https://colab.research.google.com/github/GislaineGomes/deco_morse/blob/main/Analise_redes_neurais.ipynb\" target=\"_parent\"><img src=\"https://colab.research.google.com/assets/colab-badge.svg\" alt=\"Open In Colab\"/></a>"
      ]
    },
    {
      "cell_type": "code",
      "execution_count": 4,
      "metadata": {
        "colab": {
          "base_uri": "https://localhost:8080/",
          "height": 206
        },
        "id": "YYEL2iCxHkmy",
        "outputId": "63dd8566-3799-47a1-f88c-f76b6218ab48"
      },
      "outputs": [
        {
          "output_type": "execute_result",
          "data": {
            "text/plain": [
              "         Date      Open      High       Low     Close     Volume  Dividends  \\\n",
              "0  2006-05-25  3.748967  4.283869  3.739664  4.279217  395343000        0.0   \n",
              "1  2006-05-26  4.307126  4.348058  4.103398  4.179680  103044000        0.0   \n",
              "2  2006-05-30  4.183400  4.184330  3.986184  4.093164   49898000        0.0   \n",
              "3  2006-05-31  4.125723  4.219679  4.125723  4.180608   30002000        0.0   \n",
              "4  2006-06-01  4.179678  4.474572  4.176887  4.419686   62344000        0.0   \n",
              "\n",
              "   Stock Splits  \n",
              "0           0.0  \n",
              "1           0.0  \n",
              "2           0.0  \n",
              "3           0.0  \n",
              "4           0.0  "
            ],
            "text/html": [
              "\n",
              "  <div id=\"df-304be37b-c99c-4d1e-9639-c098a67adec3\" class=\"colab-df-container\">\n",
              "    <div>\n",
              "<style scoped>\n",
              "    .dataframe tbody tr th:only-of-type {\n",
              "        vertical-align: middle;\n",
              "    }\n",
              "\n",
              "    .dataframe tbody tr th {\n",
              "        vertical-align: top;\n",
              "    }\n",
              "\n",
              "    .dataframe thead th {\n",
              "        text-align: right;\n",
              "    }\n",
              "</style>\n",
              "<table border=\"1\" class=\"dataframe\">\n",
              "  <thead>\n",
              "    <tr style=\"text-align: right;\">\n",
              "      <th></th>\n",
              "      <th>Date</th>\n",
              "      <th>Open</th>\n",
              "      <th>High</th>\n",
              "      <th>Low</th>\n",
              "      <th>Close</th>\n",
              "      <th>Volume</th>\n",
              "      <th>Dividends</th>\n",
              "      <th>Stock Splits</th>\n",
              "    </tr>\n",
              "  </thead>\n",
              "  <tbody>\n",
              "    <tr>\n",
              "      <th>0</th>\n",
              "      <td>2006-05-25</td>\n",
              "      <td>3.748967</td>\n",
              "      <td>4.283869</td>\n",
              "      <td>3.739664</td>\n",
              "      <td>4.279217</td>\n",
              "      <td>395343000</td>\n",
              "      <td>0.0</td>\n",
              "      <td>0.0</td>\n",
              "    </tr>\n",
              "    <tr>\n",
              "      <th>1</th>\n",
              "      <td>2006-05-26</td>\n",
              "      <td>4.307126</td>\n",
              "      <td>4.348058</td>\n",
              "      <td>4.103398</td>\n",
              "      <td>4.179680</td>\n",
              "      <td>103044000</td>\n",
              "      <td>0.0</td>\n",
              "      <td>0.0</td>\n",
              "    </tr>\n",
              "    <tr>\n",
              "      <th>2</th>\n",
              "      <td>2006-05-30</td>\n",
              "      <td>4.183400</td>\n",
              "      <td>4.184330</td>\n",
              "      <td>3.986184</td>\n",
              "      <td>4.093164</td>\n",
              "      <td>49898000</td>\n",
              "      <td>0.0</td>\n",
              "      <td>0.0</td>\n",
              "    </tr>\n",
              "    <tr>\n",
              "      <th>3</th>\n",
              "      <td>2006-05-31</td>\n",
              "      <td>4.125723</td>\n",
              "      <td>4.219679</td>\n",
              "      <td>4.125723</td>\n",
              "      <td>4.180608</td>\n",
              "      <td>30002000</td>\n",
              "      <td>0.0</td>\n",
              "      <td>0.0</td>\n",
              "    </tr>\n",
              "    <tr>\n",
              "      <th>4</th>\n",
              "      <td>2006-06-01</td>\n",
              "      <td>4.179678</td>\n",
              "      <td>4.474572</td>\n",
              "      <td>4.176887</td>\n",
              "      <td>4.419686</td>\n",
              "      <td>62344000</td>\n",
              "      <td>0.0</td>\n",
              "      <td>0.0</td>\n",
              "    </tr>\n",
              "  </tbody>\n",
              "</table>\n",
              "</div>\n",
              "    <div class=\"colab-df-buttons\">\n",
              "\n",
              "  <div class=\"colab-df-container\">\n",
              "    <button class=\"colab-df-convert\" onclick=\"convertToInteractive('df-304be37b-c99c-4d1e-9639-c098a67adec3')\"\n",
              "            title=\"Convert this dataframe to an interactive table.\"\n",
              "            style=\"display:none;\">\n",
              "\n",
              "  <svg xmlns=\"http://www.w3.org/2000/svg\" height=\"24px\" viewBox=\"0 -960 960 960\">\n",
              "    <path d=\"M120-120v-720h720v720H120Zm60-500h600v-160H180v160Zm220 220h160v-160H400v160Zm0 220h160v-160H400v160ZM180-400h160v-160H180v160Zm440 0h160v-160H620v160ZM180-180h160v-160H180v160Zm440 0h160v-160H620v160Z\"/>\n",
              "  </svg>\n",
              "    </button>\n",
              "\n",
              "  <style>\n",
              "    .colab-df-container {\n",
              "      display:flex;\n",
              "      gap: 12px;\n",
              "    }\n",
              "\n",
              "    .colab-df-convert {\n",
              "      background-color: #E8F0FE;\n",
              "      border: none;\n",
              "      border-radius: 50%;\n",
              "      cursor: pointer;\n",
              "      display: none;\n",
              "      fill: #1967D2;\n",
              "      height: 32px;\n",
              "      padding: 0 0 0 0;\n",
              "      width: 32px;\n",
              "    }\n",
              "\n",
              "    .colab-df-convert:hover {\n",
              "      background-color: #E2EBFA;\n",
              "      box-shadow: 0px 1px 2px rgba(60, 64, 67, 0.3), 0px 1px 3px 1px rgba(60, 64, 67, 0.15);\n",
              "      fill: #174EA6;\n",
              "    }\n",
              "\n",
              "    .colab-df-buttons div {\n",
              "      margin-bottom: 4px;\n",
              "    }\n",
              "\n",
              "    [theme=dark] .colab-df-convert {\n",
              "      background-color: #3B4455;\n",
              "      fill: #D2E3FC;\n",
              "    }\n",
              "\n",
              "    [theme=dark] .colab-df-convert:hover {\n",
              "      background-color: #434B5C;\n",
              "      box-shadow: 0px 1px 3px 1px rgba(0, 0, 0, 0.15);\n",
              "      filter: drop-shadow(0px 1px 2px rgba(0, 0, 0, 0.3));\n",
              "      fill: #FFFFFF;\n",
              "    }\n",
              "  </style>\n",
              "\n",
              "    <script>\n",
              "      const buttonEl =\n",
              "        document.querySelector('#df-304be37b-c99c-4d1e-9639-c098a67adec3 button.colab-df-convert');\n",
              "      buttonEl.style.display =\n",
              "        google.colab.kernel.accessAllowed ? 'block' : 'none';\n",
              "\n",
              "      async function convertToInteractive(key) {\n",
              "        const element = document.querySelector('#df-304be37b-c99c-4d1e-9639-c098a67adec3');\n",
              "        const dataTable =\n",
              "          await google.colab.kernel.invokeFunction('convertToInteractive',\n",
              "                                                    [key], {});\n",
              "        if (!dataTable) return;\n",
              "\n",
              "        const docLinkHtml = 'Like what you see? Visit the ' +\n",
              "          '<a target=\"_blank\" href=https://colab.research.google.com/notebooks/data_table.ipynb>data table notebook</a>'\n",
              "          + ' to learn more about interactive tables.';\n",
              "        element.innerHTML = '';\n",
              "        dataTable['output_type'] = 'display_data';\n",
              "        await google.colab.output.renderOutput(dataTable, element);\n",
              "        const docLink = document.createElement('div');\n",
              "        docLink.innerHTML = docLinkHtml;\n",
              "        element.appendChild(docLink);\n",
              "      }\n",
              "    </script>\n",
              "  </div>\n",
              "\n",
              "\n",
              "<div id=\"df-c12bf7c8-7c00-44f1-a721-c0881713d953\">\n",
              "  <button class=\"colab-df-quickchart\" onclick=\"quickchart('df-c12bf7c8-7c00-44f1-a721-c0881713d953')\"\n",
              "            title=\"Suggest charts\"\n",
              "            style=\"display:none;\">\n",
              "\n",
              "<svg xmlns=\"http://www.w3.org/2000/svg\" height=\"24px\"viewBox=\"0 0 24 24\"\n",
              "     width=\"24px\">\n",
              "    <g>\n",
              "        <path d=\"M19 3H5c-1.1 0-2 .9-2 2v14c0 1.1.9 2 2 2h14c1.1 0 2-.9 2-2V5c0-1.1-.9-2-2-2zM9 17H7v-7h2v7zm4 0h-2V7h2v10zm4 0h-2v-4h2v4z\"/>\n",
              "    </g>\n",
              "</svg>\n",
              "  </button>\n",
              "\n",
              "<style>\n",
              "  .colab-df-quickchart {\n",
              "      --bg-color: #E8F0FE;\n",
              "      --fill-color: #1967D2;\n",
              "      --hover-bg-color: #E2EBFA;\n",
              "      --hover-fill-color: #174EA6;\n",
              "      --disabled-fill-color: #AAA;\n",
              "      --disabled-bg-color: #DDD;\n",
              "  }\n",
              "\n",
              "  [theme=dark] .colab-df-quickchart {\n",
              "      --bg-color: #3B4455;\n",
              "      --fill-color: #D2E3FC;\n",
              "      --hover-bg-color: #434B5C;\n",
              "      --hover-fill-color: #FFFFFF;\n",
              "      --disabled-bg-color: #3B4455;\n",
              "      --disabled-fill-color: #666;\n",
              "  }\n",
              "\n",
              "  .colab-df-quickchart {\n",
              "    background-color: var(--bg-color);\n",
              "    border: none;\n",
              "    border-radius: 50%;\n",
              "    cursor: pointer;\n",
              "    display: none;\n",
              "    fill: var(--fill-color);\n",
              "    height: 32px;\n",
              "    padding: 0;\n",
              "    width: 32px;\n",
              "  }\n",
              "\n",
              "  .colab-df-quickchart:hover {\n",
              "    background-color: var(--hover-bg-color);\n",
              "    box-shadow: 0 1px 2px rgba(60, 64, 67, 0.3), 0 1px 3px 1px rgba(60, 64, 67, 0.15);\n",
              "    fill: var(--button-hover-fill-color);\n",
              "  }\n",
              "\n",
              "  .colab-df-quickchart-complete:disabled,\n",
              "  .colab-df-quickchart-complete:disabled:hover {\n",
              "    background-color: var(--disabled-bg-color);\n",
              "    fill: var(--disabled-fill-color);\n",
              "    box-shadow: none;\n",
              "  }\n",
              "\n",
              "  .colab-df-spinner {\n",
              "    border: 2px solid var(--fill-color);\n",
              "    border-color: transparent;\n",
              "    border-bottom-color: var(--fill-color);\n",
              "    animation:\n",
              "      spin 1s steps(1) infinite;\n",
              "  }\n",
              "\n",
              "  @keyframes spin {\n",
              "    0% {\n",
              "      border-color: transparent;\n",
              "      border-bottom-color: var(--fill-color);\n",
              "      border-left-color: var(--fill-color);\n",
              "    }\n",
              "    20% {\n",
              "      border-color: transparent;\n",
              "      border-left-color: var(--fill-color);\n",
              "      border-top-color: var(--fill-color);\n",
              "    }\n",
              "    30% {\n",
              "      border-color: transparent;\n",
              "      border-left-color: var(--fill-color);\n",
              "      border-top-color: var(--fill-color);\n",
              "      border-right-color: var(--fill-color);\n",
              "    }\n",
              "    40% {\n",
              "      border-color: transparent;\n",
              "      border-right-color: var(--fill-color);\n",
              "      border-top-color: var(--fill-color);\n",
              "    }\n",
              "    60% {\n",
              "      border-color: transparent;\n",
              "      border-right-color: var(--fill-color);\n",
              "    }\n",
              "    80% {\n",
              "      border-color: transparent;\n",
              "      border-right-color: var(--fill-color);\n",
              "      border-bottom-color: var(--fill-color);\n",
              "    }\n",
              "    90% {\n",
              "      border-color: transparent;\n",
              "      border-bottom-color: var(--fill-color);\n",
              "    }\n",
              "  }\n",
              "</style>\n",
              "\n",
              "  <script>\n",
              "    async function quickchart(key) {\n",
              "      const quickchartButtonEl =\n",
              "        document.querySelector('#' + key + ' button');\n",
              "      quickchartButtonEl.disabled = true;  // To prevent multiple clicks.\n",
              "      quickchartButtonEl.classList.add('colab-df-spinner');\n",
              "      try {\n",
              "        const charts = await google.colab.kernel.invokeFunction(\n",
              "            'suggestCharts', [key], {});\n",
              "      } catch (error) {\n",
              "        console.error('Error during call to suggestCharts:', error);\n",
              "      }\n",
              "      quickchartButtonEl.classList.remove('colab-df-spinner');\n",
              "      quickchartButtonEl.classList.add('colab-df-quickchart-complete');\n",
              "    }\n",
              "    (() => {\n",
              "      let quickchartButtonEl =\n",
              "        document.querySelector('#df-c12bf7c8-7c00-44f1-a721-c0881713d953 button');\n",
              "      quickchartButtonEl.style.display =\n",
              "        google.colab.kernel.accessAllowed ? 'block' : 'none';\n",
              "    })();\n",
              "  </script>\n",
              "</div>\n",
              "\n",
              "    </div>\n",
              "  </div>\n"
            ],
            "application/vnd.google.colaboratory.intrinsic+json": {
              "type": "dataframe",
              "variable_name": "df",
              "summary": "{\n  \"name\": \"df\",\n  \"rows\": 3872,\n  \"fields\": [\n    {\n      \"column\": \"Date\",\n      \"properties\": {\n        \"dtype\": \"object\",\n        \"num_unique_values\": 3872,\n        \"samples\": [\n          \"2019-03-01\",\n          \"2021-04-12\",\n          \"2015-06-29\"\n        ],\n        \"semantic_type\": \"\",\n        \"description\": \"\"\n      }\n    },\n    {\n      \"column\": \"Open\",\n      \"properties\": {\n        \"dtype\": \"number\",\n        \"std\": 106.24551140773123,\n        \"min\": 3.748966683786737,\n        \"max\": 392.65388995254136,\n        \"num_unique_values\": 3872,\n        \"samples\": [\n          223.705189684535,\n          377.15855573356464,\n          89.99867365588362\n        ],\n        \"semantic_type\": \"\",\n        \"description\": \"\"\n      }\n    },\n    {\n      \"column\": \"High\",\n      \"properties\": {\n        \"dtype\": \"number\",\n        \"std\": 107.3035890019181,\n        \"min\": 4.102466624728642,\n        \"max\": 400.5214786597936,\n        \"num_unique_values\": 3871,\n        \"samples\": [\n          224.9574072757127,\n          380.01160136647326,\n          90.42138539801547\n        ],\n        \"semantic_type\": \"\",\n        \"description\": \"\"\n      }\n    },\n    {\n      \"column\": \"Low\",\n      \"properties\": {\n        \"dtype\": \"number\",\n        \"std\": 105.0500637868959,\n        \"min\": 3.739663824492338,\n        \"max\": 389.7478122081184,\n        \"num_unique_values\": 3872,\n        \"samples\": [\n          222.2064553898676,\n          375.26319237302965,\n          88.77858384961698\n        ],\n        \"semantic_type\": \"\",\n        \"description\": \"\"\n      }\n    },\n    {\n      \"column\": \"Close\",\n      \"properties\": {\n        \"dtype\": \"number\",\n        \"std\": 106.16869259683403,\n        \"min\": 4.083861351013184,\n        \"max\": 394.6857299804688,\n        \"num_unique_values\": 3796,\n        \"samples\": [\n          12.147238731384276,\n          193.5734405517578,\n          33.2752571105957\n        ],\n        \"semantic_type\": \"\",\n        \"description\": \"\"\n      }\n    },\n    {\n      \"column\": \"Volume\",\n      \"properties\": {\n        \"dtype\": \"number\",\n        \"std\": 17596652,\n        \"min\": 641100,\n        \"max\": 395343000,\n        \"num_unique_values\": 3756,\n        \"samples\": [\n          4144800,\n          16610000,\n          2478600\n        ],\n        \"semantic_type\": \"\",\n        \"description\": \"\"\n      }\n    },\n    {\n      \"column\": \"Dividends\",\n      \"properties\": {\n        \"dtype\": \"number\",\n        \"std\": 0.02585084703082283,\n        \"min\": 0.0,\n        \"max\": 0.44,\n        \"num_unique_values\": 13,\n        \"samples\": [\n          0.4,\n          0.25,\n          0.0\n        ],\n        \"semantic_type\": \"\",\n        \"description\": \"\"\n      }\n    },\n    {\n      \"column\": \"Stock Splits\",\n      \"properties\": {\n        \"dtype\": \"number\",\n        \"std\": 0.16070608663331598,\n        \"min\": 0.0,\n        \"max\": 10.0,\n        \"num_unique_values\": 2,\n        \"samples\": [\n          10.0,\n          0.0\n        ],\n        \"semantic_type\": \"\",\n        \"description\": \"\"\n      }\n    }\n  ]\n}"
            }
          },
          "metadata": {},
          "execution_count": 4
        }
      ],
      "source": [
        "import pandas as pd\n",
        "import numpy as np\n",
        "df = pd.read_csv('/content/Mastercard_stock_history.csv')\n",
        "df2 = pd.read_csv('/content/Mastercard_stock_info.csv')\n",
        "df.head()\n",
        "\n"
      ]
    },
    {
      "cell_type": "code",
      "source": [
        "df2.head()\n"
      ],
      "metadata": {
        "colab": {
          "base_uri": "https://localhost:8080/",
          "height": 206
        },
        "id": "nD6wAAsEKNDn",
        "outputId": "09ab1c12-8a96-4694-d0cc-138afa442ded"
      },
      "execution_count": 35,
      "outputs": [
        {
          "output_type": "execute_result",
          "data": {
            "text/plain": [
              "                   zip                                              10577\n",
              "0               sector                                 Financial Services\n",
              "1    fullTimeEmployees                                              21000\n",
              "2  longBusinessSummary  Mastercard Incorporated, a technology company,...\n",
              "3                 city                                           Purchase\n",
              "4                phone                                       914 249 2000"
            ],
            "text/html": [
              "\n",
              "  <div id=\"df-d4b4e2f0-4fbb-4490-b30e-f8c41cf6b929\" class=\"colab-df-container\">\n",
              "    <div>\n",
              "<style scoped>\n",
              "    .dataframe tbody tr th:only-of-type {\n",
              "        vertical-align: middle;\n",
              "    }\n",
              "\n",
              "    .dataframe tbody tr th {\n",
              "        vertical-align: top;\n",
              "    }\n",
              "\n",
              "    .dataframe thead th {\n",
              "        text-align: right;\n",
              "    }\n",
              "</style>\n",
              "<table border=\"1\" class=\"dataframe\">\n",
              "  <thead>\n",
              "    <tr style=\"text-align: right;\">\n",
              "      <th></th>\n",
              "      <th>zip</th>\n",
              "      <th>10577</th>\n",
              "    </tr>\n",
              "  </thead>\n",
              "  <tbody>\n",
              "    <tr>\n",
              "      <th>0</th>\n",
              "      <td>sector</td>\n",
              "      <td>Financial Services</td>\n",
              "    </tr>\n",
              "    <tr>\n",
              "      <th>1</th>\n",
              "      <td>fullTimeEmployees</td>\n",
              "      <td>21000</td>\n",
              "    </tr>\n",
              "    <tr>\n",
              "      <th>2</th>\n",
              "      <td>longBusinessSummary</td>\n",
              "      <td>Mastercard Incorporated, a technology company,...</td>\n",
              "    </tr>\n",
              "    <tr>\n",
              "      <th>3</th>\n",
              "      <td>city</td>\n",
              "      <td>Purchase</td>\n",
              "    </tr>\n",
              "    <tr>\n",
              "      <th>4</th>\n",
              "      <td>phone</td>\n",
              "      <td>914 249 2000</td>\n",
              "    </tr>\n",
              "  </tbody>\n",
              "</table>\n",
              "</div>\n",
              "    <div class=\"colab-df-buttons\">\n",
              "\n",
              "  <div class=\"colab-df-container\">\n",
              "    <button class=\"colab-df-convert\" onclick=\"convertToInteractive('df-d4b4e2f0-4fbb-4490-b30e-f8c41cf6b929')\"\n",
              "            title=\"Convert this dataframe to an interactive table.\"\n",
              "            style=\"display:none;\">\n",
              "\n",
              "  <svg xmlns=\"http://www.w3.org/2000/svg\" height=\"24px\" viewBox=\"0 -960 960 960\">\n",
              "    <path d=\"M120-120v-720h720v720H120Zm60-500h600v-160H180v160Zm220 220h160v-160H400v160Zm0 220h160v-160H400v160ZM180-400h160v-160H180v160Zm440 0h160v-160H620v160ZM180-180h160v-160H180v160Zm440 0h160v-160H620v160Z\"/>\n",
              "  </svg>\n",
              "    </button>\n",
              "\n",
              "  <style>\n",
              "    .colab-df-container {\n",
              "      display:flex;\n",
              "      gap: 12px;\n",
              "    }\n",
              "\n",
              "    .colab-df-convert {\n",
              "      background-color: #E8F0FE;\n",
              "      border: none;\n",
              "      border-radius: 50%;\n",
              "      cursor: pointer;\n",
              "      display: none;\n",
              "      fill: #1967D2;\n",
              "      height: 32px;\n",
              "      padding: 0 0 0 0;\n",
              "      width: 32px;\n",
              "    }\n",
              "\n",
              "    .colab-df-convert:hover {\n",
              "      background-color: #E2EBFA;\n",
              "      box-shadow: 0px 1px 2px rgba(60, 64, 67, 0.3), 0px 1px 3px 1px rgba(60, 64, 67, 0.15);\n",
              "      fill: #174EA6;\n",
              "    }\n",
              "\n",
              "    .colab-df-buttons div {\n",
              "      margin-bottom: 4px;\n",
              "    }\n",
              "\n",
              "    [theme=dark] .colab-df-convert {\n",
              "      background-color: #3B4455;\n",
              "      fill: #D2E3FC;\n",
              "    }\n",
              "\n",
              "    [theme=dark] .colab-df-convert:hover {\n",
              "      background-color: #434B5C;\n",
              "      box-shadow: 0px 1px 3px 1px rgba(0, 0, 0, 0.15);\n",
              "      filter: drop-shadow(0px 1px 2px rgba(0, 0, 0, 0.3));\n",
              "      fill: #FFFFFF;\n",
              "    }\n",
              "  </style>\n",
              "\n",
              "    <script>\n",
              "      const buttonEl =\n",
              "        document.querySelector('#df-d4b4e2f0-4fbb-4490-b30e-f8c41cf6b929 button.colab-df-convert');\n",
              "      buttonEl.style.display =\n",
              "        google.colab.kernel.accessAllowed ? 'block' : 'none';\n",
              "\n",
              "      async function convertToInteractive(key) {\n",
              "        const element = document.querySelector('#df-d4b4e2f0-4fbb-4490-b30e-f8c41cf6b929');\n",
              "        const dataTable =\n",
              "          await google.colab.kernel.invokeFunction('convertToInteractive',\n",
              "                                                    [key], {});\n",
              "        if (!dataTable) return;\n",
              "\n",
              "        const docLinkHtml = 'Like what you see? Visit the ' +\n",
              "          '<a target=\"_blank\" href=https://colab.research.google.com/notebooks/data_table.ipynb>data table notebook</a>'\n",
              "          + ' to learn more about interactive tables.';\n",
              "        element.innerHTML = '';\n",
              "        dataTable['output_type'] = 'display_data';\n",
              "        await google.colab.output.renderOutput(dataTable, element);\n",
              "        const docLink = document.createElement('div');\n",
              "        docLink.innerHTML = docLinkHtml;\n",
              "        element.appendChild(docLink);\n",
              "      }\n",
              "    </script>\n",
              "  </div>\n",
              "\n",
              "\n",
              "<div id=\"df-73d06fa6-0bf0-41cc-937f-be098144245e\">\n",
              "  <button class=\"colab-df-quickchart\" onclick=\"quickchart('df-73d06fa6-0bf0-41cc-937f-be098144245e')\"\n",
              "            title=\"Suggest charts\"\n",
              "            style=\"display:none;\">\n",
              "\n",
              "<svg xmlns=\"http://www.w3.org/2000/svg\" height=\"24px\"viewBox=\"0 0 24 24\"\n",
              "     width=\"24px\">\n",
              "    <g>\n",
              "        <path d=\"M19 3H5c-1.1 0-2 .9-2 2v14c0 1.1.9 2 2 2h14c1.1 0 2-.9 2-2V5c0-1.1-.9-2-2-2zM9 17H7v-7h2v7zm4 0h-2V7h2v10zm4 0h-2v-4h2v4z\"/>\n",
              "    </g>\n",
              "</svg>\n",
              "  </button>\n",
              "\n",
              "<style>\n",
              "  .colab-df-quickchart {\n",
              "      --bg-color: #E8F0FE;\n",
              "      --fill-color: #1967D2;\n",
              "      --hover-bg-color: #E2EBFA;\n",
              "      --hover-fill-color: #174EA6;\n",
              "      --disabled-fill-color: #AAA;\n",
              "      --disabled-bg-color: #DDD;\n",
              "  }\n",
              "\n",
              "  [theme=dark] .colab-df-quickchart {\n",
              "      --bg-color: #3B4455;\n",
              "      --fill-color: #D2E3FC;\n",
              "      --hover-bg-color: #434B5C;\n",
              "      --hover-fill-color: #FFFFFF;\n",
              "      --disabled-bg-color: #3B4455;\n",
              "      --disabled-fill-color: #666;\n",
              "  }\n",
              "\n",
              "  .colab-df-quickchart {\n",
              "    background-color: var(--bg-color);\n",
              "    border: none;\n",
              "    border-radius: 50%;\n",
              "    cursor: pointer;\n",
              "    display: none;\n",
              "    fill: var(--fill-color);\n",
              "    height: 32px;\n",
              "    padding: 0;\n",
              "    width: 32px;\n",
              "  }\n",
              "\n",
              "  .colab-df-quickchart:hover {\n",
              "    background-color: var(--hover-bg-color);\n",
              "    box-shadow: 0 1px 2px rgba(60, 64, 67, 0.3), 0 1px 3px 1px rgba(60, 64, 67, 0.15);\n",
              "    fill: var(--button-hover-fill-color);\n",
              "  }\n",
              "\n",
              "  .colab-df-quickchart-complete:disabled,\n",
              "  .colab-df-quickchart-complete:disabled:hover {\n",
              "    background-color: var(--disabled-bg-color);\n",
              "    fill: var(--disabled-fill-color);\n",
              "    box-shadow: none;\n",
              "  }\n",
              "\n",
              "  .colab-df-spinner {\n",
              "    border: 2px solid var(--fill-color);\n",
              "    border-color: transparent;\n",
              "    border-bottom-color: var(--fill-color);\n",
              "    animation:\n",
              "      spin 1s steps(1) infinite;\n",
              "  }\n",
              "\n",
              "  @keyframes spin {\n",
              "    0% {\n",
              "      border-color: transparent;\n",
              "      border-bottom-color: var(--fill-color);\n",
              "      border-left-color: var(--fill-color);\n",
              "    }\n",
              "    20% {\n",
              "      border-color: transparent;\n",
              "      border-left-color: var(--fill-color);\n",
              "      border-top-color: var(--fill-color);\n",
              "    }\n",
              "    30% {\n",
              "      border-color: transparent;\n",
              "      border-left-color: var(--fill-color);\n",
              "      border-top-color: var(--fill-color);\n",
              "      border-right-color: var(--fill-color);\n",
              "    }\n",
              "    40% {\n",
              "      border-color: transparent;\n",
              "      border-right-color: var(--fill-color);\n",
              "      border-top-color: var(--fill-color);\n",
              "    }\n",
              "    60% {\n",
              "      border-color: transparent;\n",
              "      border-right-color: var(--fill-color);\n",
              "    }\n",
              "    80% {\n",
              "      border-color: transparent;\n",
              "      border-right-color: var(--fill-color);\n",
              "      border-bottom-color: var(--fill-color);\n",
              "    }\n",
              "    90% {\n",
              "      border-color: transparent;\n",
              "      border-bottom-color: var(--fill-color);\n",
              "    }\n",
              "  }\n",
              "</style>\n",
              "\n",
              "  <script>\n",
              "    async function quickchart(key) {\n",
              "      const quickchartButtonEl =\n",
              "        document.querySelector('#' + key + ' button');\n",
              "      quickchartButtonEl.disabled = true;  // To prevent multiple clicks.\n",
              "      quickchartButtonEl.classList.add('colab-df-spinner');\n",
              "      try {\n",
              "        const charts = await google.colab.kernel.invokeFunction(\n",
              "            'suggestCharts', [key], {});\n",
              "      } catch (error) {\n",
              "        console.error('Error during call to suggestCharts:', error);\n",
              "      }\n",
              "      quickchartButtonEl.classList.remove('colab-df-spinner');\n",
              "      quickchartButtonEl.classList.add('colab-df-quickchart-complete');\n",
              "    }\n",
              "    (() => {\n",
              "      let quickchartButtonEl =\n",
              "        document.querySelector('#df-73d06fa6-0bf0-41cc-937f-be098144245e button');\n",
              "      quickchartButtonEl.style.display =\n",
              "        google.colab.kernel.accessAllowed ? 'block' : 'none';\n",
              "    })();\n",
              "  </script>\n",
              "</div>\n",
              "\n",
              "    </div>\n",
              "  </div>\n"
            ],
            "application/vnd.google.colaboratory.intrinsic+json": {
              "type": "dataframe",
              "variable_name": "df2",
              "summary": "{\n  \"name\": \"df2\",\n  \"rows\": 150,\n  \"fields\": [\n    {\n      \"column\": \"zip\",\n      \"properties\": {\n        \"dtype\": \"string\",\n        \"num_unique_values\": 150,\n        \"samples\": [\n          \"SandP52WeekChange\",\n          \"ebitda\",\n          \"expireDate\"\n        ],\n        \"semantic_type\": \"\",\n        \"description\": \"\"\n      }\n    },\n    {\n      \"column\": \"10577\",\n      \"properties\": {\n        \"dtype\": \"string\",\n        \"num_unique_values\": 105,\n        \"samples\": [\n          \"1.0965899\",\n          \"1672444800\",\n          \"0.11034001\"\n        ],\n        \"semantic_type\": \"\",\n        \"description\": \"\"\n      }\n    }\n  ]\n}"
            }
          },
          "metadata": {},
          "execution_count": 35
        }
      ]
    },
    {
      "source": [
        "from google.colab import sheets\n",
        "sheet = sheets.InteractiveSheet(df=df2)"
      ],
      "cell_type": "code",
      "execution_count": 36,
      "outputs": [
        {
          "output_type": "stream",
          "name": "stdout",
          "text": [
            "https://docs.google.com/spreadsheets/d/1-_HGZS9UFl6bMt4OUo-dMsSUXMC_muQydgc0m5vm5FE#gid=0\n"
          ]
        },
        {
          "output_type": "stream",
          "name": "stderr",
          "text": [
            "/usr/local/lib/python3.10/dist-packages/google/colab/sheets.py:31: FutureWarning: DataFrame.applymap has been deprecated. Use DataFrame.map instead.\n",
            "  return frame.applymap(_clean_val).replace({np.nan: None})\n"
          ]
        },
        {
          "output_type": "display_data",
          "data": {
            "text/plain": [
              "<IPython.lib.display.IFrame at 0x7c4e458f14b0>"
            ],
            "text/html": [
              "\n",
              "        <iframe\n",
              "            width=\"100%\"\n",
              "            height=\"600\"\n",
              "            src=\"https://docs.google.com/spreadsheets/d/1-_HGZS9UFl6bMt4OUo-dMsSUXMC_muQydgc0m5vm5FE#gid=0/edit?rm=embedded?usp=sharing?widget=true&amp;headers=false\"\n",
              "            frameborder=\"0\"\n",
              "            allowfullscreen\n",
              "            \n",
              "        ></iframe>\n",
              "        "
            ]
          },
          "metadata": {}
        }
      ],
      "metadata": {
        "cellView": "form",
        "colab": {
          "base_uri": "https://localhost:8080/",
          "height": 673
        },
        "id": "uaKkltoLKlsh",
        "outputId": "74a87f00-2af7-4e66-c7f2-27320150176f"
      }
    },
    {
      "cell_type": "markdown",
      "source": [
        "Entendendo as metricas e dimensões desse google Sheets\n"
      ],
      "metadata": {
        "id": "iIYqV-NlK046"
      }
    },
    {
      "cell_type": "code",
      "source": [],
      "metadata": {
        "id": "vdfbbI6rKlJG"
      },
      "execution_count": null,
      "outputs": []
    },
    {
      "cell_type": "code",
      "source": [
        "import pandas as pd\n",
        "import numpy as np\n",
        "from pandas_datareader import data\n",
        "import matplotlib.pyplot as plt\n",
        "import seaborn as sns\n",
        "import plotly.express as px\n",
        "import yfinance as yf\n",
        "import math\n",
        "from scipy import stats"
      ],
      "metadata": {
        "id": "uzIbcZ_ZTdER"
      },
      "execution_count": 25,
      "outputs": []
    },
    {
      "cell_type": "markdown",
      "source": [
        "**Quantidade de linhas que eu tenho no meu Data set"
      ],
      "metadata": {
        "id": "lOVbGN0lQnq5"
      }
    },
    {
      "cell_type": "code",
      "source": [
        "# prompt: Quantidade de linhas que eu tenho no meu Data set\n",
        "\n",
        "print(f\"Number of rows in df: {len(df)}\")\n",
        "print(f\"Number of rows in df2: {len(df2)}\")"
      ],
      "metadata": {
        "colab": {
          "base_uri": "https://localhost:8080/"
        },
        "id": "1jbRPDUcQcaq",
        "outputId": "f141d641-241e-41d3-fd3d-abfb02acbcfb"
      },
      "execution_count": 57,
      "outputs": [
        {
          "output_type": "stream",
          "name": "stdout",
          "text": [
            "O dataset tem 3872 linhas.\n"
          ]
        }
      ]
    },
    {
      "cell_type": "markdown",
      "source": [
        "**Preparação dos Dados** - Removendo valores Nulos\n"
      ],
      "metadata": {
        "id": "0EMx-wiEUNzC"
      }
    },
    {
      "cell_type": "code",
      "source": [
        "df.isnull().sum()\n",
        "df = df.dropna()\n",
        "df = df.dropna()"
      ],
      "metadata": {
        "id": "hdQtsDE6USlH"
      },
      "execution_count": 7,
      "outputs": []
    },
    {
      "cell_type": "markdown",
      "source": [
        "**Conhecendo o arquivo**\n"
      ],
      "metadata": {
        "id": "Emhzpg-JUkWG"
      }
    },
    {
      "cell_type": "code",
      "source": [
        "\n",
        "df.info()"
      ],
      "metadata": {
        "colab": {
          "base_uri": "https://localhost:8080/"
        },
        "id": "McnhGm9aVH4s",
        "outputId": "c072edcd-7bd9-42e3-9617-94900eebadab"
      },
      "execution_count": 37,
      "outputs": [
        {
          "output_type": "stream",
          "name": "stdout",
          "text": [
            "<class 'pandas.core.frame.DataFrame'>\n",
            "DatetimeIndex: 3872 entries, 2006-05-25 to 2021-10-11\n",
            "Data columns (total 7 columns):\n",
            " #   Column        Non-Null Count  Dtype  \n",
            "---  ------        --------------  -----  \n",
            " 0   Open          3872 non-null   float64\n",
            " 1   High          3872 non-null   float64\n",
            " 2   Low           3872 non-null   float64\n",
            " 3   Close         3872 non-null   float64\n",
            " 4   Volume        3872 non-null   int64  \n",
            " 5   Dividends     3872 non-null   float64\n",
            " 6   Stock Splits  3872 non-null   float64\n",
            "dtypes: float64(6), int64(1)\n",
            "memory usage: 242.0 KB\n"
          ]
        }
      ]
    },
    {
      "cell_type": "code",
      "source": [
        "df2.info()"
      ],
      "metadata": {
        "colab": {
          "base_uri": "https://localhost:8080/"
        },
        "id": "ujvDpnx0K_1D",
        "outputId": "4bf736aa-2a12-4acb-f392-844ca0808741"
      },
      "execution_count": 38,
      "outputs": [
        {
          "output_type": "stream",
          "name": "stdout",
          "text": [
            "<class 'pandas.core.frame.DataFrame'>\n",
            "RangeIndex: 150 entries, 0 to 149\n",
            "Data columns (total 2 columns):\n",
            " #   Column  Non-Null Count  Dtype \n",
            "---  ------  --------------  ----- \n",
            " 0   zip     150 non-null    object\n",
            " 1   10577   117 non-null    object\n",
            "dtypes: object(2)\n",
            "memory usage: 2.5+ KB\n"
          ]
        }
      ]
    },
    {
      "cell_type": "markdown",
      "source": [
        "***Entendendo o Minimo, Maximo e Mediana***"
      ],
      "metadata": {
        "id": "A0-hLgEaWp_U"
      }
    },
    {
      "cell_type": "code",
      "source": [
        "df.describe()"
      ],
      "metadata": {
        "colab": {
          "base_uri": "https://localhost:8080/",
          "height": 300
        },
        "id": "gdUJDVELWgko",
        "outputId": "62c1fb71-4902-451c-9115-dd2cb14a0936"
      },
      "execution_count": 9,
      "outputs": [
        {
          "output_type": "execute_result",
          "data": {
            "text/plain": [
              "              Open         High          Low        Close        Volume  \\\n",
              "count  3872.000000  3872.000000  3872.000000  3872.000000  3.872000e+03   \n",
              "mean    104.896814   105.956054   103.769349   104.882714  1.232250e+07   \n",
              "std     106.245511   107.303589   105.050064   106.168693  1.759665e+07   \n",
              "min       3.748967     4.102467     3.739664     4.083861  6.411000e+05   \n",
              "25%      22.347203    22.637997    22.034458    22.300391  3.529475e+06   \n",
              "50%      70.810079    71.375896    70.224002    70.856083  5.891750e+06   \n",
              "75%     147.688448   148.645373   146.822013   147.688438  1.319775e+07   \n",
              "max     392.653890   400.521479   389.747812   394.685730  3.953430e+08   \n",
              "\n",
              "         Dividends  Stock Splits  \n",
              "count  3872.000000   3872.000000  \n",
              "mean      0.002329      0.002583  \n",
              "std       0.025851      0.160706  \n",
              "min       0.000000      0.000000  \n",
              "25%       0.000000      0.000000  \n",
              "50%       0.000000      0.000000  \n",
              "75%       0.000000      0.000000  \n",
              "max       0.440000     10.000000  "
            ],
            "text/html": [
              "\n",
              "  <div id=\"df-c73850fa-8998-4d7c-9859-4a356964f800\" class=\"colab-df-container\">\n",
              "    <div>\n",
              "<style scoped>\n",
              "    .dataframe tbody tr th:only-of-type {\n",
              "        vertical-align: middle;\n",
              "    }\n",
              "\n",
              "    .dataframe tbody tr th {\n",
              "        vertical-align: top;\n",
              "    }\n",
              "\n",
              "    .dataframe thead th {\n",
              "        text-align: right;\n",
              "    }\n",
              "</style>\n",
              "<table border=\"1\" class=\"dataframe\">\n",
              "  <thead>\n",
              "    <tr style=\"text-align: right;\">\n",
              "      <th></th>\n",
              "      <th>Open</th>\n",
              "      <th>High</th>\n",
              "      <th>Low</th>\n",
              "      <th>Close</th>\n",
              "      <th>Volume</th>\n",
              "      <th>Dividends</th>\n",
              "      <th>Stock Splits</th>\n",
              "    </tr>\n",
              "  </thead>\n",
              "  <tbody>\n",
              "    <tr>\n",
              "      <th>count</th>\n",
              "      <td>3872.000000</td>\n",
              "      <td>3872.000000</td>\n",
              "      <td>3872.000000</td>\n",
              "      <td>3872.000000</td>\n",
              "      <td>3.872000e+03</td>\n",
              "      <td>3872.000000</td>\n",
              "      <td>3872.000000</td>\n",
              "    </tr>\n",
              "    <tr>\n",
              "      <th>mean</th>\n",
              "      <td>104.896814</td>\n",
              "      <td>105.956054</td>\n",
              "      <td>103.769349</td>\n",
              "      <td>104.882714</td>\n",
              "      <td>1.232250e+07</td>\n",
              "      <td>0.002329</td>\n",
              "      <td>0.002583</td>\n",
              "    </tr>\n",
              "    <tr>\n",
              "      <th>std</th>\n",
              "      <td>106.245511</td>\n",
              "      <td>107.303589</td>\n",
              "      <td>105.050064</td>\n",
              "      <td>106.168693</td>\n",
              "      <td>1.759665e+07</td>\n",
              "      <td>0.025851</td>\n",
              "      <td>0.160706</td>\n",
              "    </tr>\n",
              "    <tr>\n",
              "      <th>min</th>\n",
              "      <td>3.748967</td>\n",
              "      <td>4.102467</td>\n",
              "      <td>3.739664</td>\n",
              "      <td>4.083861</td>\n",
              "      <td>6.411000e+05</td>\n",
              "      <td>0.000000</td>\n",
              "      <td>0.000000</td>\n",
              "    </tr>\n",
              "    <tr>\n",
              "      <th>25%</th>\n",
              "      <td>22.347203</td>\n",
              "      <td>22.637997</td>\n",
              "      <td>22.034458</td>\n",
              "      <td>22.300391</td>\n",
              "      <td>3.529475e+06</td>\n",
              "      <td>0.000000</td>\n",
              "      <td>0.000000</td>\n",
              "    </tr>\n",
              "    <tr>\n",
              "      <th>50%</th>\n",
              "      <td>70.810079</td>\n",
              "      <td>71.375896</td>\n",
              "      <td>70.224002</td>\n",
              "      <td>70.856083</td>\n",
              "      <td>5.891750e+06</td>\n",
              "      <td>0.000000</td>\n",
              "      <td>0.000000</td>\n",
              "    </tr>\n",
              "    <tr>\n",
              "      <th>75%</th>\n",
              "      <td>147.688448</td>\n",
              "      <td>148.645373</td>\n",
              "      <td>146.822013</td>\n",
              "      <td>147.688438</td>\n",
              "      <td>1.319775e+07</td>\n",
              "      <td>0.000000</td>\n",
              "      <td>0.000000</td>\n",
              "    </tr>\n",
              "    <tr>\n",
              "      <th>max</th>\n",
              "      <td>392.653890</td>\n",
              "      <td>400.521479</td>\n",
              "      <td>389.747812</td>\n",
              "      <td>394.685730</td>\n",
              "      <td>3.953430e+08</td>\n",
              "      <td>0.440000</td>\n",
              "      <td>10.000000</td>\n",
              "    </tr>\n",
              "  </tbody>\n",
              "</table>\n",
              "</div>\n",
              "    <div class=\"colab-df-buttons\">\n",
              "\n",
              "  <div class=\"colab-df-container\">\n",
              "    <button class=\"colab-df-convert\" onclick=\"convertToInteractive('df-c73850fa-8998-4d7c-9859-4a356964f800')\"\n",
              "            title=\"Convert this dataframe to an interactive table.\"\n",
              "            style=\"display:none;\">\n",
              "\n",
              "  <svg xmlns=\"http://www.w3.org/2000/svg\" height=\"24px\" viewBox=\"0 -960 960 960\">\n",
              "    <path d=\"M120-120v-720h720v720H120Zm60-500h600v-160H180v160Zm220 220h160v-160H400v160Zm0 220h160v-160H400v160ZM180-400h160v-160H180v160Zm440 0h160v-160H620v160ZM180-180h160v-160H180v160Zm440 0h160v-160H620v160Z\"/>\n",
              "  </svg>\n",
              "    </button>\n",
              "\n",
              "  <style>\n",
              "    .colab-df-container {\n",
              "      display:flex;\n",
              "      gap: 12px;\n",
              "    }\n",
              "\n",
              "    .colab-df-convert {\n",
              "      background-color: #E8F0FE;\n",
              "      border: none;\n",
              "      border-radius: 50%;\n",
              "      cursor: pointer;\n",
              "      display: none;\n",
              "      fill: #1967D2;\n",
              "      height: 32px;\n",
              "      padding: 0 0 0 0;\n",
              "      width: 32px;\n",
              "    }\n",
              "\n",
              "    .colab-df-convert:hover {\n",
              "      background-color: #E2EBFA;\n",
              "      box-shadow: 0px 1px 2px rgba(60, 64, 67, 0.3), 0px 1px 3px 1px rgba(60, 64, 67, 0.15);\n",
              "      fill: #174EA6;\n",
              "    }\n",
              "\n",
              "    .colab-df-buttons div {\n",
              "      margin-bottom: 4px;\n",
              "    }\n",
              "\n",
              "    [theme=dark] .colab-df-convert {\n",
              "      background-color: #3B4455;\n",
              "      fill: #D2E3FC;\n",
              "    }\n",
              "\n",
              "    [theme=dark] .colab-df-convert:hover {\n",
              "      background-color: #434B5C;\n",
              "      box-shadow: 0px 1px 3px 1px rgba(0, 0, 0, 0.15);\n",
              "      filter: drop-shadow(0px 1px 2px rgba(0, 0, 0, 0.3));\n",
              "      fill: #FFFFFF;\n",
              "    }\n",
              "  </style>\n",
              "\n",
              "    <script>\n",
              "      const buttonEl =\n",
              "        document.querySelector('#df-c73850fa-8998-4d7c-9859-4a356964f800 button.colab-df-convert');\n",
              "      buttonEl.style.display =\n",
              "        google.colab.kernel.accessAllowed ? 'block' : 'none';\n",
              "\n",
              "      async function convertToInteractive(key) {\n",
              "        const element = document.querySelector('#df-c73850fa-8998-4d7c-9859-4a356964f800');\n",
              "        const dataTable =\n",
              "          await google.colab.kernel.invokeFunction('convertToInteractive',\n",
              "                                                    [key], {});\n",
              "        if (!dataTable) return;\n",
              "\n",
              "        const docLinkHtml = 'Like what you see? Visit the ' +\n",
              "          '<a target=\"_blank\" href=https://colab.research.google.com/notebooks/data_table.ipynb>data table notebook</a>'\n",
              "          + ' to learn more about interactive tables.';\n",
              "        element.innerHTML = '';\n",
              "        dataTable['output_type'] = 'display_data';\n",
              "        await google.colab.output.renderOutput(dataTable, element);\n",
              "        const docLink = document.createElement('div');\n",
              "        docLink.innerHTML = docLinkHtml;\n",
              "        element.appendChild(docLink);\n",
              "      }\n",
              "    </script>\n",
              "  </div>\n",
              "\n",
              "\n",
              "<div id=\"df-cdd607de-0fcf-4e88-8cc9-0beb5562a698\">\n",
              "  <button class=\"colab-df-quickchart\" onclick=\"quickchart('df-cdd607de-0fcf-4e88-8cc9-0beb5562a698')\"\n",
              "            title=\"Suggest charts\"\n",
              "            style=\"display:none;\">\n",
              "\n",
              "<svg xmlns=\"http://www.w3.org/2000/svg\" height=\"24px\"viewBox=\"0 0 24 24\"\n",
              "     width=\"24px\">\n",
              "    <g>\n",
              "        <path d=\"M19 3H5c-1.1 0-2 .9-2 2v14c0 1.1.9 2 2 2h14c1.1 0 2-.9 2-2V5c0-1.1-.9-2-2-2zM9 17H7v-7h2v7zm4 0h-2V7h2v10zm4 0h-2v-4h2v4z\"/>\n",
              "    </g>\n",
              "</svg>\n",
              "  </button>\n",
              "\n",
              "<style>\n",
              "  .colab-df-quickchart {\n",
              "      --bg-color: #E8F0FE;\n",
              "      --fill-color: #1967D2;\n",
              "      --hover-bg-color: #E2EBFA;\n",
              "      --hover-fill-color: #174EA6;\n",
              "      --disabled-fill-color: #AAA;\n",
              "      --disabled-bg-color: #DDD;\n",
              "  }\n",
              "\n",
              "  [theme=dark] .colab-df-quickchart {\n",
              "      --bg-color: #3B4455;\n",
              "      --fill-color: #D2E3FC;\n",
              "      --hover-bg-color: #434B5C;\n",
              "      --hover-fill-color: #FFFFFF;\n",
              "      --disabled-bg-color: #3B4455;\n",
              "      --disabled-fill-color: #666;\n",
              "  }\n",
              "\n",
              "  .colab-df-quickchart {\n",
              "    background-color: var(--bg-color);\n",
              "    border: none;\n",
              "    border-radius: 50%;\n",
              "    cursor: pointer;\n",
              "    display: none;\n",
              "    fill: var(--fill-color);\n",
              "    height: 32px;\n",
              "    padding: 0;\n",
              "    width: 32px;\n",
              "  }\n",
              "\n",
              "  .colab-df-quickchart:hover {\n",
              "    background-color: var(--hover-bg-color);\n",
              "    box-shadow: 0 1px 2px rgba(60, 64, 67, 0.3), 0 1px 3px 1px rgba(60, 64, 67, 0.15);\n",
              "    fill: var(--button-hover-fill-color);\n",
              "  }\n",
              "\n",
              "  .colab-df-quickchart-complete:disabled,\n",
              "  .colab-df-quickchart-complete:disabled:hover {\n",
              "    background-color: var(--disabled-bg-color);\n",
              "    fill: var(--disabled-fill-color);\n",
              "    box-shadow: none;\n",
              "  }\n",
              "\n",
              "  .colab-df-spinner {\n",
              "    border: 2px solid var(--fill-color);\n",
              "    border-color: transparent;\n",
              "    border-bottom-color: var(--fill-color);\n",
              "    animation:\n",
              "      spin 1s steps(1) infinite;\n",
              "  }\n",
              "\n",
              "  @keyframes spin {\n",
              "    0% {\n",
              "      border-color: transparent;\n",
              "      border-bottom-color: var(--fill-color);\n",
              "      border-left-color: var(--fill-color);\n",
              "    }\n",
              "    20% {\n",
              "      border-color: transparent;\n",
              "      border-left-color: var(--fill-color);\n",
              "      border-top-color: var(--fill-color);\n",
              "    }\n",
              "    30% {\n",
              "      border-color: transparent;\n",
              "      border-left-color: var(--fill-color);\n",
              "      border-top-color: var(--fill-color);\n",
              "      border-right-color: var(--fill-color);\n",
              "    }\n",
              "    40% {\n",
              "      border-color: transparent;\n",
              "      border-right-color: var(--fill-color);\n",
              "      border-top-color: var(--fill-color);\n",
              "    }\n",
              "    60% {\n",
              "      border-color: transparent;\n",
              "      border-right-color: var(--fill-color);\n",
              "    }\n",
              "    80% {\n",
              "      border-color: transparent;\n",
              "      border-right-color: var(--fill-color);\n",
              "      border-bottom-color: var(--fill-color);\n",
              "    }\n",
              "    90% {\n",
              "      border-color: transparent;\n",
              "      border-bottom-color: var(--fill-color);\n",
              "    }\n",
              "  }\n",
              "</style>\n",
              "\n",
              "  <script>\n",
              "    async function quickchart(key) {\n",
              "      const quickchartButtonEl =\n",
              "        document.querySelector('#' + key + ' button');\n",
              "      quickchartButtonEl.disabled = true;  // To prevent multiple clicks.\n",
              "      quickchartButtonEl.classList.add('colab-df-spinner');\n",
              "      try {\n",
              "        const charts = await google.colab.kernel.invokeFunction(\n",
              "            'suggestCharts', [key], {});\n",
              "      } catch (error) {\n",
              "        console.error('Error during call to suggestCharts:', error);\n",
              "      }\n",
              "      quickchartButtonEl.classList.remove('colab-df-spinner');\n",
              "      quickchartButtonEl.classList.add('colab-df-quickchart-complete');\n",
              "    }\n",
              "    (() => {\n",
              "      let quickchartButtonEl =\n",
              "        document.querySelector('#df-cdd607de-0fcf-4e88-8cc9-0beb5562a698 button');\n",
              "      quickchartButtonEl.style.display =\n",
              "        google.colab.kernel.accessAllowed ? 'block' : 'none';\n",
              "    })();\n",
              "  </script>\n",
              "</div>\n",
              "\n",
              "    </div>\n",
              "  </div>\n"
            ],
            "application/vnd.google.colaboratory.intrinsic+json": {
              "type": "dataframe",
              "summary": "{\n  \"name\": \"df\",\n  \"rows\": 8,\n  \"fields\": [\n    {\n      \"column\": \"Open\",\n      \"properties\": {\n        \"dtype\": \"number\",\n        \"std\": 1331.5367400246632,\n        \"min\": 3.748966683786737,\n        \"max\": 3872.0,\n        \"num_unique_values\": 8,\n        \"samples\": [\n          104.89681438628936,\n          70.81007864198926,\n          3872.0\n        ],\n        \"semantic_type\": \"\",\n        \"description\": \"\"\n      }\n    },\n    {\n      \"column\": \"High\",\n      \"properties\": {\n        \"dtype\": \"number\",\n        \"std\": 1331.1456527335272,\n        \"min\": 4.102466624728642,\n        \"max\": 3872.0,\n        \"num_unique_values\": 8,\n        \"samples\": [\n          105.95605446094947,\n          71.37589551562638,\n          3872.0\n        ],\n        \"semantic_type\": \"\",\n        \"description\": \"\"\n      }\n    },\n    {\n      \"column\": \"Low\",\n      \"properties\": {\n        \"dtype\": \"number\",\n        \"std\": 1331.8127289905967,\n        \"min\": 3.739663824492338,\n        \"max\": 3872.0,\n        \"num_unique_values\": 8,\n        \"samples\": [\n          103.76934888827121,\n          70.22400151802532,\n          3872.0\n        ],\n        \"semantic_type\": \"\",\n        \"description\": \"\"\n      }\n    },\n    {\n      \"column\": \"Close\",\n      \"properties\": {\n        \"dtype\": \"number\",\n        \"std\": 1331.477846073398,\n        \"min\": 4.083861351013184,\n        \"max\": 3872.0,\n        \"num_unique_values\": 8,\n        \"samples\": [\n          104.88271432819445,\n          70.85608291625977,\n          3872.0\n        ],\n        \"semantic_type\": \"\",\n        \"description\": \"\"\n      }\n    },\n    {\n      \"column\": \"Volume\",\n      \"properties\": {\n        \"dtype\": \"number\",\n        \"std\": 137234094.78640136,\n        \"min\": 3872.0,\n        \"max\": 395343000.0,\n        \"num_unique_values\": 8,\n        \"samples\": [\n          12322502.685950413,\n          5891750.0,\n          3872.0\n        ],\n        \"semantic_type\": \"\",\n        \"description\": \"\"\n      }\n    },\n    {\n      \"column\": \"Dividends\",\n      \"properties\": {\n        \"dtype\": \"number\",\n        \"std\": 1368.935090225491,\n        \"min\": 0.0,\n        \"max\": 3872.0,\n        \"num_unique_values\": 5,\n        \"samples\": [\n          0.002329028925619835,\n          0.44,\n          0.02585084703082283\n        ],\n        \"semantic_type\": \"\",\n        \"description\": \"\"\n      }\n    },\n    {\n      \"column\": \"Stock Splits\",\n      \"properties\": {\n        \"dtype\": \"number\",\n        \"std\": 1368.4498555866846,\n        \"min\": 0.0,\n        \"max\": 3872.0,\n        \"num_unique_values\": 5,\n        \"samples\": [\n          0.0025826446280991736,\n          10.0,\n          0.16070608663331598\n        ],\n        \"semantic_type\": \"\",\n        \"description\": \"\"\n      }\n    }\n  ]\n}"
            }
          },
          "metadata": {},
          "execution_count": 9
        }
      ]
    },
    {
      "cell_type": "code",
      "source": [
        "df2.describe()"
      ],
      "metadata": {
        "colab": {
          "base_uri": "https://localhost:8080/",
          "height": 175
        },
        "id": "fTemGqgtLH2e",
        "outputId": "8fd3e3d4-e066-4fff-8547-a83a1d79731e"
      },
      "execution_count": 39,
      "outputs": [
        {
          "output_type": "execute_result",
          "data": {
            "text/plain": [
              "           zip 10577\n",
              "count      150   117\n",
              "unique     150   105\n",
              "top     sector     1\n",
              "freq         1     2"
            ],
            "text/html": [
              "\n",
              "  <div id=\"df-59f9113c-fe6d-43e6-be78-084b75786ef0\" class=\"colab-df-container\">\n",
              "    <div>\n",
              "<style scoped>\n",
              "    .dataframe tbody tr th:only-of-type {\n",
              "        vertical-align: middle;\n",
              "    }\n",
              "\n",
              "    .dataframe tbody tr th {\n",
              "        vertical-align: top;\n",
              "    }\n",
              "\n",
              "    .dataframe thead th {\n",
              "        text-align: right;\n",
              "    }\n",
              "</style>\n",
              "<table border=\"1\" class=\"dataframe\">\n",
              "  <thead>\n",
              "    <tr style=\"text-align: right;\">\n",
              "      <th></th>\n",
              "      <th>zip</th>\n",
              "      <th>10577</th>\n",
              "    </tr>\n",
              "  </thead>\n",
              "  <tbody>\n",
              "    <tr>\n",
              "      <th>count</th>\n",
              "      <td>150</td>\n",
              "      <td>117</td>\n",
              "    </tr>\n",
              "    <tr>\n",
              "      <th>unique</th>\n",
              "      <td>150</td>\n",
              "      <td>105</td>\n",
              "    </tr>\n",
              "    <tr>\n",
              "      <th>top</th>\n",
              "      <td>sector</td>\n",
              "      <td>1</td>\n",
              "    </tr>\n",
              "    <tr>\n",
              "      <th>freq</th>\n",
              "      <td>1</td>\n",
              "      <td>2</td>\n",
              "    </tr>\n",
              "  </tbody>\n",
              "</table>\n",
              "</div>\n",
              "    <div class=\"colab-df-buttons\">\n",
              "\n",
              "  <div class=\"colab-df-container\">\n",
              "    <button class=\"colab-df-convert\" onclick=\"convertToInteractive('df-59f9113c-fe6d-43e6-be78-084b75786ef0')\"\n",
              "            title=\"Convert this dataframe to an interactive table.\"\n",
              "            style=\"display:none;\">\n",
              "\n",
              "  <svg xmlns=\"http://www.w3.org/2000/svg\" height=\"24px\" viewBox=\"0 -960 960 960\">\n",
              "    <path d=\"M120-120v-720h720v720H120Zm60-500h600v-160H180v160Zm220 220h160v-160H400v160Zm0 220h160v-160H400v160ZM180-400h160v-160H180v160Zm440 0h160v-160H620v160ZM180-180h160v-160H180v160Zm440 0h160v-160H620v160Z\"/>\n",
              "  </svg>\n",
              "    </button>\n",
              "\n",
              "  <style>\n",
              "    .colab-df-container {\n",
              "      display:flex;\n",
              "      gap: 12px;\n",
              "    }\n",
              "\n",
              "    .colab-df-convert {\n",
              "      background-color: #E8F0FE;\n",
              "      border: none;\n",
              "      border-radius: 50%;\n",
              "      cursor: pointer;\n",
              "      display: none;\n",
              "      fill: #1967D2;\n",
              "      height: 32px;\n",
              "      padding: 0 0 0 0;\n",
              "      width: 32px;\n",
              "    }\n",
              "\n",
              "    .colab-df-convert:hover {\n",
              "      background-color: #E2EBFA;\n",
              "      box-shadow: 0px 1px 2px rgba(60, 64, 67, 0.3), 0px 1px 3px 1px rgba(60, 64, 67, 0.15);\n",
              "      fill: #174EA6;\n",
              "    }\n",
              "\n",
              "    .colab-df-buttons div {\n",
              "      margin-bottom: 4px;\n",
              "    }\n",
              "\n",
              "    [theme=dark] .colab-df-convert {\n",
              "      background-color: #3B4455;\n",
              "      fill: #D2E3FC;\n",
              "    }\n",
              "\n",
              "    [theme=dark] .colab-df-convert:hover {\n",
              "      background-color: #434B5C;\n",
              "      box-shadow: 0px 1px 3px 1px rgba(0, 0, 0, 0.15);\n",
              "      filter: drop-shadow(0px 1px 2px rgba(0, 0, 0, 0.3));\n",
              "      fill: #FFFFFF;\n",
              "    }\n",
              "  </style>\n",
              "\n",
              "    <script>\n",
              "      const buttonEl =\n",
              "        document.querySelector('#df-59f9113c-fe6d-43e6-be78-084b75786ef0 button.colab-df-convert');\n",
              "      buttonEl.style.display =\n",
              "        google.colab.kernel.accessAllowed ? 'block' : 'none';\n",
              "\n",
              "      async function convertToInteractive(key) {\n",
              "        const element = document.querySelector('#df-59f9113c-fe6d-43e6-be78-084b75786ef0');\n",
              "        const dataTable =\n",
              "          await google.colab.kernel.invokeFunction('convertToInteractive',\n",
              "                                                    [key], {});\n",
              "        if (!dataTable) return;\n",
              "\n",
              "        const docLinkHtml = 'Like what you see? Visit the ' +\n",
              "          '<a target=\"_blank\" href=https://colab.research.google.com/notebooks/data_table.ipynb>data table notebook</a>'\n",
              "          + ' to learn more about interactive tables.';\n",
              "        element.innerHTML = '';\n",
              "        dataTable['output_type'] = 'display_data';\n",
              "        await google.colab.output.renderOutput(dataTable, element);\n",
              "        const docLink = document.createElement('div');\n",
              "        docLink.innerHTML = docLinkHtml;\n",
              "        element.appendChild(docLink);\n",
              "      }\n",
              "    </script>\n",
              "  </div>\n",
              "\n",
              "\n",
              "<div id=\"df-7e9f6d05-bdc3-4bb7-9089-00443abf7066\">\n",
              "  <button class=\"colab-df-quickchart\" onclick=\"quickchart('df-7e9f6d05-bdc3-4bb7-9089-00443abf7066')\"\n",
              "            title=\"Suggest charts\"\n",
              "            style=\"display:none;\">\n",
              "\n",
              "<svg xmlns=\"http://www.w3.org/2000/svg\" height=\"24px\"viewBox=\"0 0 24 24\"\n",
              "     width=\"24px\">\n",
              "    <g>\n",
              "        <path d=\"M19 3H5c-1.1 0-2 .9-2 2v14c0 1.1.9 2 2 2h14c1.1 0 2-.9 2-2V5c0-1.1-.9-2-2-2zM9 17H7v-7h2v7zm4 0h-2V7h2v10zm4 0h-2v-4h2v4z\"/>\n",
              "    </g>\n",
              "</svg>\n",
              "  </button>\n",
              "\n",
              "<style>\n",
              "  .colab-df-quickchart {\n",
              "      --bg-color: #E8F0FE;\n",
              "      --fill-color: #1967D2;\n",
              "      --hover-bg-color: #E2EBFA;\n",
              "      --hover-fill-color: #174EA6;\n",
              "      --disabled-fill-color: #AAA;\n",
              "      --disabled-bg-color: #DDD;\n",
              "  }\n",
              "\n",
              "  [theme=dark] .colab-df-quickchart {\n",
              "      --bg-color: #3B4455;\n",
              "      --fill-color: #D2E3FC;\n",
              "      --hover-bg-color: #434B5C;\n",
              "      --hover-fill-color: #FFFFFF;\n",
              "      --disabled-bg-color: #3B4455;\n",
              "      --disabled-fill-color: #666;\n",
              "  }\n",
              "\n",
              "  .colab-df-quickchart {\n",
              "    background-color: var(--bg-color);\n",
              "    border: none;\n",
              "    border-radius: 50%;\n",
              "    cursor: pointer;\n",
              "    display: none;\n",
              "    fill: var(--fill-color);\n",
              "    height: 32px;\n",
              "    padding: 0;\n",
              "    width: 32px;\n",
              "  }\n",
              "\n",
              "  .colab-df-quickchart:hover {\n",
              "    background-color: var(--hover-bg-color);\n",
              "    box-shadow: 0 1px 2px rgba(60, 64, 67, 0.3), 0 1px 3px 1px rgba(60, 64, 67, 0.15);\n",
              "    fill: var(--button-hover-fill-color);\n",
              "  }\n",
              "\n",
              "  .colab-df-quickchart-complete:disabled,\n",
              "  .colab-df-quickchart-complete:disabled:hover {\n",
              "    background-color: var(--disabled-bg-color);\n",
              "    fill: var(--disabled-fill-color);\n",
              "    box-shadow: none;\n",
              "  }\n",
              "\n",
              "  .colab-df-spinner {\n",
              "    border: 2px solid var(--fill-color);\n",
              "    border-color: transparent;\n",
              "    border-bottom-color: var(--fill-color);\n",
              "    animation:\n",
              "      spin 1s steps(1) infinite;\n",
              "  }\n",
              "\n",
              "  @keyframes spin {\n",
              "    0% {\n",
              "      border-color: transparent;\n",
              "      border-bottom-color: var(--fill-color);\n",
              "      border-left-color: var(--fill-color);\n",
              "    }\n",
              "    20% {\n",
              "      border-color: transparent;\n",
              "      border-left-color: var(--fill-color);\n",
              "      border-top-color: var(--fill-color);\n",
              "    }\n",
              "    30% {\n",
              "      border-color: transparent;\n",
              "      border-left-color: var(--fill-color);\n",
              "      border-top-color: var(--fill-color);\n",
              "      border-right-color: var(--fill-color);\n",
              "    }\n",
              "    40% {\n",
              "      border-color: transparent;\n",
              "      border-right-color: var(--fill-color);\n",
              "      border-top-color: var(--fill-color);\n",
              "    }\n",
              "    60% {\n",
              "      border-color: transparent;\n",
              "      border-right-color: var(--fill-color);\n",
              "    }\n",
              "    80% {\n",
              "      border-color: transparent;\n",
              "      border-right-color: var(--fill-color);\n",
              "      border-bottom-color: var(--fill-color);\n",
              "    }\n",
              "    90% {\n",
              "      border-color: transparent;\n",
              "      border-bottom-color: var(--fill-color);\n",
              "    }\n",
              "  }\n",
              "</style>\n",
              "\n",
              "  <script>\n",
              "    async function quickchart(key) {\n",
              "      const quickchartButtonEl =\n",
              "        document.querySelector('#' + key + ' button');\n",
              "      quickchartButtonEl.disabled = true;  // To prevent multiple clicks.\n",
              "      quickchartButtonEl.classList.add('colab-df-spinner');\n",
              "      try {\n",
              "        const charts = await google.colab.kernel.invokeFunction(\n",
              "            'suggestCharts', [key], {});\n",
              "      } catch (error) {\n",
              "        console.error('Error during call to suggestCharts:', error);\n",
              "      }\n",
              "      quickchartButtonEl.classList.remove('colab-df-spinner');\n",
              "      quickchartButtonEl.classList.add('colab-df-quickchart-complete');\n",
              "    }\n",
              "    (() => {\n",
              "      let quickchartButtonEl =\n",
              "        document.querySelector('#df-7e9f6d05-bdc3-4bb7-9089-00443abf7066 button');\n",
              "      quickchartButtonEl.style.display =\n",
              "        google.colab.kernel.accessAllowed ? 'block' : 'none';\n",
              "    })();\n",
              "  </script>\n",
              "</div>\n",
              "\n",
              "    </div>\n",
              "  </div>\n"
            ],
            "application/vnd.google.colaboratory.intrinsic+json": {
              "type": "dataframe",
              "summary": "{\n  \"name\": \"df2\",\n  \"rows\": 4,\n  \"fields\": [\n    {\n      \"column\": \"zip\",\n      \"properties\": {\n        \"dtype\": \"string\",\n        \"num_unique_values\": 3,\n        \"samples\": [\n          \"150\",\n          \"sector\",\n          \"1\"\n        ],\n        \"semantic_type\": \"\",\n        \"description\": \"\"\n      }\n    },\n    {\n      \"column\": \"10577\",\n      \"properties\": {\n        \"dtype\": \"string\",\n        \"num_unique_values\": 4,\n        \"samples\": [\n          105,\n          \"2\",\n          \"117\"\n        ],\n        \"semantic_type\": \"\",\n        \"description\": \"\"\n      }\n    }\n  ]\n}"
            }
          },
          "metadata": {},
          "execution_count": 39
        }
      ]
    },
    {
      "cell_type": "markdown",
      "source": [
        "***Começando analisar os dados***"
      ],
      "metadata": {
        "id": "qBKDIwrzXe-o"
      }
    },
    {
      "cell_type": "code",
      "source": [
        "df[cat_cols].nunique()"
      ],
      "metadata": {
        "colab": {
          "base_uri": "https://localhost:8080/",
          "height": 115
        },
        "id": "jefQaKKvYgB5",
        "outputId": "dcf09b3c-fbb4-4011-9db6-e7aa887538be"
      },
      "execution_count": 12,
      "outputs": [
        {
          "output_type": "execute_result",
          "data": {
            "text/plain": [
              "Date    3872\n",
              "dtype: int64"
            ],
            "text/html": [
              "<div>\n",
              "<style scoped>\n",
              "    .dataframe tbody tr th:only-of-type {\n",
              "        vertical-align: middle;\n",
              "    }\n",
              "\n",
              "    .dataframe tbody tr th {\n",
              "        vertical-align: top;\n",
              "    }\n",
              "\n",
              "    .dataframe thead th {\n",
              "        text-align: right;\n",
              "    }\n",
              "</style>\n",
              "<table border=\"1\" class=\"dataframe\">\n",
              "  <thead>\n",
              "    <tr style=\"text-align: right;\">\n",
              "      <th></th>\n",
              "      <th>0</th>\n",
              "    </tr>\n",
              "  </thead>\n",
              "  <tbody>\n",
              "    <tr>\n",
              "      <th>Date</th>\n",
              "      <td>3872</td>\n",
              "    </tr>\n",
              "  </tbody>\n",
              "</table>\n",
              "</div><br><label><b>dtype:</b> int64</label>"
            ]
          },
          "metadata": {},
          "execution_count": 12
        }
      ]
    },
    {
      "cell_type": "code",
      "source": [
        "df2[cat_cols].nunique()"
      ],
      "metadata": {
        "colab": {
          "base_uri": "https://localhost:8080/",
          "height": 84
        },
        "id": "S_3S9LTfLPVJ",
        "outputId": "8fb5b382-86a2-4a22-d9a5-fd2e26a7d885"
      },
      "execution_count": 40,
      "outputs": [
        {
          "output_type": "execute_result",
          "data": {
            "text/plain": [
              "Series([], dtype: float64)"
            ],
            "text/html": [
              "<div>\n",
              "<style scoped>\n",
              "    .dataframe tbody tr th:only-of-type {\n",
              "        vertical-align: middle;\n",
              "    }\n",
              "\n",
              "    .dataframe tbody tr th {\n",
              "        vertical-align: top;\n",
              "    }\n",
              "\n",
              "    .dataframe thead th {\n",
              "        text-align: right;\n",
              "    }\n",
              "</style>\n",
              "<table border=\"1\" class=\"dataframe\">\n",
              "  <thead>\n",
              "    <tr style=\"text-align: right;\">\n",
              "      <th></th>\n",
              "      <th>0</th>\n",
              "    </tr>\n",
              "  </thead>\n",
              "  <tbody>\n",
              "  </tbody>\n",
              "</table>\n",
              "</div><br><label><b>dtype:</b> float64</label>"
            ]
          },
          "metadata": {},
          "execution_count": 40
        }
      ]
    },
    {
      "cell_type": "code",
      "source": [
        "df.hist(figsize=(15, 10))"
      ],
      "metadata": {
        "colab": {
          "base_uri": "https://localhost:8080/",
          "height": 992
        },
        "id": "nltiWYX4Yr4p",
        "outputId": "22662946-5b05-4d20-f7a7-83f4fefc38ce"
      },
      "execution_count": 20,
      "outputs": [
        {
          "output_type": "execute_result",
          "data": {
            "text/plain": [
              "array([[<Axes: title={'center': 'Open'}>,\n",
              "        <Axes: title={'center': 'High'}>,\n",
              "        <Axes: title={'center': 'Low'}>],\n",
              "       [<Axes: title={'center': 'Close'}>,\n",
              "        <Axes: title={'center': 'Volume'}>,\n",
              "        <Axes: title={'center': 'Dividends'}>],\n",
              "       [<Axes: title={'center': 'Stock Splits'}>, <Axes: >, <Axes: >]],\n",
              "      dtype=object)"
            ]
          },
          "metadata": {},
          "execution_count": 20
        },
        {
          "output_type": "display_data",
          "data": {
            "text/plain": [
              "<Figure size 1500x1000 with 9 Axes>"
            ],
            "image/png": "[encoded data removed]"
          },
          "metadata": {}
        }
      ]
    },
    {
      "cell_type": "markdown",
      "source": [
        "Os graficos, mostra o volume de ações da Mastercard negociadas diariamente. Há um aumento significativo no volume no início de 2009. Caso contrário, o volume geralmente diminuiu ao longo do tempo."
      ],
      "metadata": {
        "id": "zBIX16vaYxs8"
      }
    },
    {
      "cell_type": "markdown",
      "source": [
        "**Como as ações da mastercard se comporta ao longo do tempo. Com o retorno financeiro. **"
      ],
      "metadata": {
        "id": "nJ_YVvA_bi6b"
      }
    },
    {
      "cell_type": "markdown",
      "source": [
        "**Criando um modelo , neste campo vamos entender o dataset do modelo. **"
      ],
      "metadata": {
        "id": "HGljLyD-l4RT"
      }
    },
    {
      "cell_type": "code",
      "source": [
        "train = pd.read_csv(\"/content/Mastercard_stock_history.csv\")\n",
        "print(\"Quantidade de elementos de treino: {}\". format(len(train)))\n",
        "print(train.head())\n"
      ],
      "metadata": {
        "colab": {
          "base_uri": "https://localhost:8080/"
        },
        "id": "pGjGEfIFZs_U",
        "outputId": "fd9fe970-43ff-4af7-b7b9-3b07076274d8"
      },
      "execution_count": 29,
      "outputs": [
        {
          "output_type": "stream",
          "name": "stdout",
          "text": [
            "Quantidade de elementos de treino: 3872\n",
            "         Date      Open      High       Low     Close     Volume  Dividends  \\\n",
            "0  2006-05-25  3.748967  4.283869  3.739664  4.279217  395343000        0.0   \n",
            "1  2006-05-26  4.307126  4.348058  4.103398  4.179680  103044000        0.0   \n",
            "2  2006-05-30  4.183400  4.184330  3.986184  4.093164   49898000        0.0   \n",
            "3  2006-05-31  4.125723  4.219679  4.125723  4.180608   30002000        0.0   \n",
            "4  2006-06-01  4.179678  4.474572  4.176887  4.419686   62344000        0.0   \n",
            "\n",
            "   Stock Splits  \n",
            "0           0.0  \n",
            "1           0.0  \n",
            "2           0.0  \n",
            "3           0.0  \n",
            "4           0.0  \n"
          ]
        }
      ]
    },
    {
      "cell_type": "code",
      "source": [
        "train = pd.read_csv(\"/content/Mastercard_stock_info.csv\")\n",
        "print(\"Quantidade de elementos de treino: {}\". format(len(train)))\n",
        "print(train.head())\n"
      ],
      "metadata": {
        "colab": {
          "base_uri": "https://localhost:8080/"
        },
        "id": "CjwObCF6Ll6v",
        "outputId": "dce2092d-690e-40ba-a479-5b00883a5f67"
      },
      "execution_count": 44,
      "outputs": [
        {
          "output_type": "stream",
          "name": "stdout",
          "text": [
            "Quantidade de elementos de treino: 150\n",
            "                   zip                                              10577\n",
            "0               sector                                 Financial Services\n",
            "1    fullTimeEmployees                                              21000\n",
            "2  longBusinessSummary  Mastercard Incorporated, a technology company,...\n",
            "3                 city                                           Purchase\n",
            "4                phone                                       914 249 2000\n"
          ]
        }
      ]
    },
    {
      "cell_type": "code",
      "source": [
        "print(df.columns)"
      ],
      "metadata": {
        "colab": {
          "base_uri": "https://localhost:8080/"
        },
        "id": "RqdE5C8aSt6P",
        "outputId": "b94240b8-ed7f-4ee2-daae-66d330e90075"
      },
      "execution_count": 65,
      "outputs": [
        {
          "output_type": "stream",
          "name": "stdout",
          "text": [
            "Index(['Open', 'High', 'Low', 'Close', 'Volume', 'Dividends', 'Stock Splits'], dtype='object')\n"
          ]
        }
      ]
    },
    {
      "cell_type": "markdown",
      "source": [
        "**Criando o modelo"
      ],
      "metadata": {
        "id": "0P5ksuqCnYH_"
      }
    },
    {
      "cell_type": "code",
      "source": [
        "from sklearn.model_selection import train_test_split\n",
        "from sklearn.linear_model import LinearRegression\n",
        "from sklearn.metrics import mean_squared_error, r2_score\n",
        "import matplotlib.pyplot as plt\n",
        "\n",
        "x = df['Volume']\n",
        "y = df.drop('Volume', axis=1)\n",
        "X_treino, X_teste = x[0:400], x[400:]\n",
        "y_treino, y_teste = y[0:400], y[400:]\n",
        "\n",
        "print(\"X_treino:\\n\", X_treino)\n",
        "print(\"X_teste:\\n\", X_teste)\n",
        "print(\"y_treino:\\n\", y_treino)\n",
        "print(\"y_teste:\\n\", y_teste)\n"
      ],
      "metadata": {
        "colab": {
          "base_uri": "https://localhost:8080/"
        },
        "id": "uaYZeQJ4mYTD",
        "outputId": "15f72dcf-0146-4c36-dec5-16ca6025a9a5"
      },
      "execution_count": 67,
      "outputs": [
        {
          "output_type": "stream",
          "name": "stdout",
          "text": [
            "X_treino:\n",
            " Date\n",
            "2006-05-25    395343000\n",
            "2006-05-26    103044000\n",
            "2006-05-30     49898000\n",
            "2006-05-31     30002000\n",
            "2006-06-01     62344000\n",
            "                ...    \n",
            "2007-12-19     44661000\n",
            "2007-12-20     41105000\n",
            "2007-12-21     50920000\n",
            "2007-12-24     10526000\n",
            "2007-12-26     12477000\n",
            "Name: Volume, Length: 400, dtype: int64\n",
            "X_teste:\n",
            " Date\n",
            "2007-12-27    20166000\n",
            "2007-12-28     9901000\n",
            "2007-12-31    13115000\n",
            "2008-01-02    20156000\n",
            "2008-01-03    28994000\n",
            "                ...   \n",
            "2021-10-05     4724100\n",
            "2021-10-06     3712000\n",
            "2021-10-07     3209200\n",
            "2021-10-08     2336700\n",
            "2021-10-11     2766800\n",
            "Name: Volume, Length: 3472, dtype: int64\n",
            "y_treino:\n",
            "                  Open       High        Low      Close  Dividends  \\\n",
            "Date                                                                \n",
            "2006-05-25   3.748967   4.283869   3.739664   4.279217        0.0   \n",
            "2006-05-26   4.307126   4.348058   4.103398   4.179680        0.0   \n",
            "2006-05-30   4.183400   4.184330   3.986184   4.093164        0.0   \n",
            "2006-05-31   4.125723   4.219679   4.125723   4.180608        0.0   \n",
            "2006-06-01   4.179678   4.474572   4.176887   4.419686        0.0   \n",
            "...               ...        ...        ...        ...        ...   \n",
            "2007-12-19  18.684580  19.921988  18.472267  19.860258        0.0   \n",
            "2007-12-20  20.161425  20.296110  19.006324  19.337421        0.0   \n",
            "2007-12-21  19.619887  19.861197  19.039064  19.861197        0.0   \n",
            "2007-12-24  19.828466  20.010851  19.611475  19.839689        0.0   \n",
            "2007-12-26  19.538518  19.711550  19.360811  19.592766        0.0   \n",
            "\n",
            "            Stock Splits  \n",
            "Date                      \n",
            "2006-05-25           0.0  \n",
            "2006-05-26           0.0  \n",
            "2006-05-30           0.0  \n",
            "2006-05-31           0.0  \n",
            "2006-06-01           0.0  \n",
            "...                  ...  \n",
            "2007-12-19           0.0  \n",
            "2007-12-20           0.0  \n",
            "2007-12-21           0.0  \n",
            "2007-12-24           0.0  \n",
            "2007-12-26           0.0  \n",
            "\n",
            "[400 rows x 6 columns]\n",
            "y_teste:\n",
            "                   Open        High         Low       Close  Dividends  \\\n",
            "Date                                                                    \n",
            "2007-12-27   19.547866   20.198839   19.459013   19.644203       0.00   \n",
            "2007-12-28   19.748959   19.965950   19.502039   19.641399       0.00   \n",
            "2007-12-31   19.653560   20.334461   19.653560   20.127760       0.00   \n",
            "2008-01-02   20.380289   20.603826   19.884577   20.079121       0.00   \n",
            "2008-01-03   20.067903   20.113733   19.185912   19.839689       0.00   \n",
            "...                ...         ...         ...         ...        ...   \n",
            "2021-10-05  347.121403  348.130138  342.497241  342.776886       0.00   \n",
            "2021-10-06  339.580960  348.439763  338.682072  348.250000       0.00   \n",
            "2021-10-07  349.000000  357.899994  349.000000  353.910004       0.44   \n",
            "2021-10-08  356.000000  360.369995  354.209991  354.959991       0.00   \n",
            "2021-10-11  353.950012  354.880005  346.899994  347.149994       0.00   \n",
            "\n",
            "            Stock Splits  \n",
            "Date                      \n",
            "2007-12-27           0.0  \n",
            "2007-12-28           0.0  \n",
            "2007-12-31           0.0  \n",
            "2008-01-02           0.0  \n",
            "2008-01-03           0.0  \n",
            "...                  ...  \n",
            "2021-10-05           0.0  \n",
            "2021-10-06           0.0  \n",
            "2021-10-07           0.0  \n",
            "2021-10-08           0.0  \n",
            "2021-10-11           0.0  \n",
            "\n",
            "[3472 rows x 6 columns]\n"
          ]
        }
      ]
    },
    {
      "cell_type": "code",
      "source": [
        "x = df['High']\n",
        "y = df.drop('High', axis=1)\n",
        "X_treino, X_teste = x[0:400], x[400:]\n",
        "y_treino, y_teste = y[0:400], y[400:]\n",
        "\n",
        "print(\"X_treino:\\n\", X_treino)\n",
        "print(\"X_teste:\\n\", X_teste)\n",
        "print(\"y_treino:\\n\", y_treino)\n",
        "print(\"y_teste:\\n\", y_teste)\n"
      ],
      "metadata": {
        "colab": {
          "base_uri": "https://localhost:8080/"
        },
        "id": "HoxOoXluTH_7",
        "outputId": "98f13d15-78b3-4dc8-eaba-59d1f61e0bd9"
      },
      "execution_count": 69,
      "outputs": [
        {
          "output_type": "stream",
          "name": "stdout",
          "text": [
            "X_treino:\n",
            " Date\n",
            "2006-05-25     4.283869\n",
            "2006-05-26     4.348058\n",
            "2006-05-30     4.184330\n",
            "2006-05-31     4.219679\n",
            "2006-06-01     4.474572\n",
            "                ...    \n",
            "2007-12-19    19.921988\n",
            "2007-12-20    20.296110\n",
            "2007-12-21    19.861197\n",
            "2007-12-24    20.010851\n",
            "2007-12-26    19.711550\n",
            "Name: High, Length: 400, dtype: float64\n",
            "X_teste:\n",
            " Date\n",
            "2007-12-27     20.198839\n",
            "2007-12-28     19.965950\n",
            "2007-12-31     20.334461\n",
            "2008-01-02     20.603826\n",
            "2008-01-03     20.113733\n",
            "                 ...    \n",
            "2021-10-05    348.130138\n",
            "2021-10-06    348.439763\n",
            "2021-10-07    357.899994\n",
            "2021-10-08    360.369995\n",
            "2021-10-11    354.880005\n",
            "Name: High, Length: 3472, dtype: float64\n",
            "y_treino:\n",
            "                  Open        Low      Close     Volume  Dividends  \\\n",
            "Date                                                                \n",
            "2006-05-25   3.748967   3.739664   4.279217  395343000        0.0   \n",
            "2006-05-26   4.307126   4.103398   4.179680  103044000        0.0   \n",
            "2006-05-30   4.183400   3.986184   4.093164   49898000        0.0   \n",
            "2006-05-31   4.125723   4.125723   4.180608   30002000        0.0   \n",
            "2006-06-01   4.179678   4.176887   4.419686   62344000        0.0   \n",
            "...               ...        ...        ...        ...        ...   \n",
            "2007-12-19  18.684580  18.472267  19.860258   44661000        0.0   \n",
            "2007-12-20  20.161425  19.006324  19.337421   41105000        0.0   \n",
            "2007-12-21  19.619887  19.039064  19.861197   50920000        0.0   \n",
            "2007-12-24  19.828466  19.611475  19.839689   10526000        0.0   \n",
            "2007-12-26  19.538518  19.360811  19.592766   12477000        0.0   \n",
            "\n",
            "            Stock Splits  \n",
            "Date                      \n",
            "2006-05-25           0.0  \n",
            "2006-05-26           0.0  \n",
            "2006-05-30           0.0  \n",
            "2006-05-31           0.0  \n",
            "2006-06-01           0.0  \n",
            "...                  ...  \n",
            "2007-12-19           0.0  \n",
            "2007-12-20           0.0  \n",
            "2007-12-21           0.0  \n",
            "2007-12-24           0.0  \n",
            "2007-12-26           0.0  \n",
            "\n",
            "[400 rows x 6 columns]\n",
            "y_teste:\n",
            "                   Open         Low       Close    Volume  Dividends  \\\n",
            "Date                                                                  \n",
            "2007-12-27   19.547866   19.459013   19.644203  20166000       0.00   \n",
            "2007-12-28   19.748959   19.502039   19.641399   9901000       0.00   \n",
            "2007-12-31   19.653560   19.653560   20.127760  13115000       0.00   \n",
            "2008-01-02   20.380289   19.884577   20.079121  20156000       0.00   \n",
            "2008-01-03   20.067903   19.185912   19.839689  28994000       0.00   \n",
            "...                ...         ...         ...       ...        ...   \n",
            "2021-10-05  347.121403  342.497241  342.776886   4724100       0.00   \n",
            "2021-10-06  339.580960  338.682072  348.250000   3712000       0.00   \n",
            "2021-10-07  349.000000  349.000000  353.910004   3209200       0.44   \n",
            "2021-10-08  356.000000  354.209991  354.959991   2336700       0.00   \n",
            "2021-10-11  353.950012  346.899994  347.149994   2766800       0.00   \n",
            "\n",
            "            Stock Splits  \n",
            "Date                      \n",
            "2007-12-27           0.0  \n",
            "2007-12-28           0.0  \n",
            "2007-12-31           0.0  \n",
            "2008-01-02           0.0  \n",
            "2008-01-03           0.0  \n",
            "...                  ...  \n",
            "2021-10-05           0.0  \n",
            "2021-10-06           0.0  \n",
            "2021-10-07           0.0  \n",
            "2021-10-08           0.0  \n",
            "2021-10-11           0.0  \n",
            "\n",
            "[3472 rows x 6 columns]\n"
          ]
        }
      ]
    },
    {
      "cell_type": "code",
      "source": [
        "x = df['Close']\n",
        "y = df.drop('Close', axis=1)\n",
        "X_treino, X_teste = x[0:400], x[400:]\n",
        "y_treino, y_teste = y[0:400], y[400:]\n",
        "\n",
        "print(\"X_treino:\\n\", X_treino)\n",
        "print(\"X_teste:\\n\", X_teste)\n",
        "print(\"y_treino:\\n\", y_treino)\n",
        "print(\"y_teste:\\n\", y_teste)\n"
      ],
      "metadata": {
        "colab": {
          "base_uri": "https://localhost:8080/"
        },
        "id": "rv-yrCR9T7CI",
        "outputId": "d72b0b6c-d3bf-4487-f22e-b809fae9e2b3"
      },
      "execution_count": 70,
      "outputs": [
        {
          "output_type": "stream",
          "name": "stdout",
          "text": [
            "X_treino:\n",
            " Date\n",
            "2006-05-25     4.279217\n",
            "2006-05-26     4.179680\n",
            "2006-05-30     4.093164\n",
            "2006-05-31     4.180608\n",
            "2006-06-01     4.419686\n",
            "                ...    \n",
            "2007-12-19    19.860258\n",
            "2007-12-20    19.337421\n",
            "2007-12-21    19.861197\n",
            "2007-12-24    19.839689\n",
            "2007-12-26    19.592766\n",
            "Name: Close, Length: 400, dtype: float64\n",
            "X_teste:\n",
            " Date\n",
            "2007-12-27     19.644203\n",
            "2007-12-28     19.641399\n",
            "2007-12-31     20.127760\n",
            "2008-01-02     20.079121\n",
            "2008-01-03     19.839689\n",
            "                 ...    \n",
            "2021-10-05    342.776886\n",
            "2021-10-06    348.250000\n",
            "2021-10-07    353.910004\n",
            "2021-10-08    354.959991\n",
            "2021-10-11    347.149994\n",
            "Name: Close, Length: 3472, dtype: float64\n",
            "y_treino:\n",
            "                  Open       High        Low     Volume  Dividends  \\\n",
            "Date                                                                \n",
            "2006-05-25   3.748967   4.283869   3.739664  395343000        0.0   \n",
            "2006-05-26   4.307126   4.348058   4.103398  103044000        0.0   \n",
            "2006-05-30   4.183400   4.184330   3.986184   49898000        0.0   \n",
            "2006-05-31   4.125723   4.219679   4.125723   30002000        0.0   \n",
            "2006-06-01   4.179678   4.474572   4.176887   62344000        0.0   \n",
            "...               ...        ...        ...        ...        ...   \n",
            "2007-12-19  18.684580  19.921988  18.472267   44661000        0.0   \n",
            "2007-12-20  20.161425  20.296110  19.006324   41105000        0.0   \n",
            "2007-12-21  19.619887  19.861197  19.039064   50920000        0.0   \n",
            "2007-12-24  19.828466  20.010851  19.611475   10526000        0.0   \n",
            "2007-12-26  19.538518  19.711550  19.360811   12477000        0.0   \n",
            "\n",
            "            Stock Splits  \n",
            "Date                      \n",
            "2006-05-25           0.0  \n",
            "2006-05-26           0.0  \n",
            "2006-05-30           0.0  \n",
            "2006-05-31           0.0  \n",
            "2006-06-01           0.0  \n",
            "...                  ...  \n",
            "2007-12-19           0.0  \n",
            "2007-12-20           0.0  \n",
            "2007-12-21           0.0  \n",
            "2007-12-24           0.0  \n",
            "2007-12-26           0.0  \n",
            "\n",
            "[400 rows x 6 columns]\n",
            "y_teste:\n",
            "                   Open        High         Low    Volume  Dividends  \\\n",
            "Date                                                                  \n",
            "2007-12-27   19.547866   20.198839   19.459013  20166000       0.00   \n",
            "2007-12-28   19.748959   19.965950   19.502039   9901000       0.00   \n",
            "2007-12-31   19.653560   20.334461   19.653560  13115000       0.00   \n",
            "2008-01-02   20.380289   20.603826   19.884577  20156000       0.00   \n",
            "2008-01-03   20.067903   20.113733   19.185912  28994000       0.00   \n",
            "...                ...         ...         ...       ...        ...   \n",
            "2021-10-05  347.121403  348.130138  342.497241   4724100       0.00   \n",
            "2021-10-06  339.580960  348.439763  338.682072   3712000       0.00   \n",
            "2021-10-07  349.000000  357.899994  349.000000   3209200       0.44   \n",
            "2021-10-08  356.000000  360.369995  354.209991   2336700       0.00   \n",
            "2021-10-11  353.950012  354.880005  346.899994   2766800       0.00   \n",
            "\n",
            "            Stock Splits  \n",
            "Date                      \n",
            "2007-12-27           0.0  \n",
            "2007-12-28           0.0  \n",
            "2007-12-31           0.0  \n",
            "2008-01-02           0.0  \n",
            "2008-01-03           0.0  \n",
            "...                  ...  \n",
            "2021-10-05           0.0  \n",
            "2021-10-06           0.0  \n",
            "2021-10-07           0.0  \n",
            "2021-10-08           0.0  \n",
            "2021-10-11           0.0  \n",
            "\n",
            "[3472 rows x 6 columns]\n"
          ]
        }
      ]
    },
    {
      "cell_type": "markdown",
      "source": [
        "Quantidade de vezes que vamos testar o modelo"
      ],
      "metadata": {
        "id": "cxgUYqWCsnOj"
      }
    },
    {
      "cell_type": "code",
      "source": [
        "X_teste.shape"
      ],
      "metadata": {
        "colab": {
          "base_uri": "https://localhost:8080/"
        },
        "id": "xy7jh6CEX15-",
        "outputId": "f754ff6e-1340-4b9d-c93c-d2dafdbe3631"
      },
      "execution_count": 82,
      "outputs": [
        {
          "output_type": "execute_result",
          "data": {
            "text/plain": [
              "(3472,)"
            ]
          },
          "metadata": {},
          "execution_count": 82
        }
      ]
    },
    {
      "cell_type": "code",
      "source": [
        "X_treino.shape"
      ],
      "metadata": {
        "colab": {
          "base_uri": "https://localhost:8080/"
        },
        "id": "5-elZzN0Xka5",
        "outputId": "05992cc2-2ae1-4ecf-fa8d-67bd001a4657"
      },
      "execution_count": 81,
      "outputs": [
        {
          "output_type": "execute_result",
          "data": {
            "text/plain": [
              "(400,)"
            ]
          },
          "metadata": {},
          "execution_count": 81
        }
      ]
    },
    {
      "cell_type": "code",
      "source": [
        "from keras.models import Sequential\n",
        "from keras.layers import LSTM, Dense,Dropout\n",
        "\n"
      ],
      "metadata": {
        "id": "ZuYRJl0wnvjT"
      },
      "execution_count": 77,
      "outputs": []
    },
    {
      "cell_type": "code",
      "source": [
        "model=Sequential()\n",
        "model.add(LSTM(units=3250,return_sequences=True,input_shape=(X_treino.shape[0],1)))\n",
        "print (model.output_shape)"
      ],
      "metadata": {
        "colab": {
          "base_uri": "https://localhost:8080/"
        },
        "id": "Ur6ColCxUixS",
        "outputId": "b1a5b7c9-b17d-475b-ef0d-52645284fefc"
      },
      "execution_count": 79,
      "outputs": [
        {
          "output_type": "stream",
          "name": "stdout",
          "text": [
            "(None, 400, 3250)\n"
          ]
        }
      ]
    },
    {
      "cell_type": "code",
      "source": [
        "model = Sequential([\n",
        "    Dense(128, activation='relu', input_shape=(400,)),\n",
        "    Dense(64, activation='relu'),\n",
        "    Dense(1, activation='linear')\n",
        "])\n",
        "model.compile(loss ='mse',optimizer='adam', metrics= ['mae'])\n",
        "model.summary()"
      ],
      "metadata": {
        "colab": {
          "base_uri": "https://localhost:8080/",
          "height": 238
        },
        "id": "i9h5acc-cxde",
        "outputId": "0bbf6a29-ed28-4935-db26-2e9778308d0c"
      },
      "execution_count": 110,
      "outputs": [
        {
          "output_type": "display_data",
          "data": {
            "text/plain": [
              "\u001b[1mModel: \"sequential_14\"\u001b[0m\n"
            ],
            "text/html": [
              "<pre style=\"white-space:pre;overflow-x:auto;line-height:normal;font-family:Menlo,'DejaVu Sans Mono',consolas,'Courier New',monospace\"><span style=\"font-weight: bold\">Model: \"sequential_14\"</span>\n",
              "</pre>\n"
            ]
          },
          "metadata": {}
        },
        {
          "output_type": "display_data",
          "data": {
            "text/plain": [
              "┏━━━━━━━━━━━━━━━━━━━━━━━━━━━━━━━━━━━━━━┳━━━━━━━━━━━━━━━━━━━━━━━━━━━━━┳━━━━━━━━━━━━━━━━━┓\n",
              "┃\u001b[1m \u001b[0m\u001b[1mLayer (type)                        \u001b[0m\u001b[1m \u001b[0m┃\u001b[1m \u001b[0m\u001b[1mOutput Shape               \u001b[0m\u001b[1m \u001b[0m┃\u001b[1m \u001b[0m\u001b[1m        Param #\u001b[0m\u001b[1m \u001b[0m┃\n",
              "┡━━━━━━━━━━━━━━━━━━━━━━━━━━━━━━━━━━━━━━╇━━━━━━━━━━━━━━━━━━━━━━━━━━━━━╇━━━━━━━━━━━━━━━━━┩\n",
              "│ dense_27 (\u001b[38;5;33mDense\u001b[0m)                     │ (\u001b[38;5;45mNone\u001b[0m, \u001b[38;5;34m128\u001b[0m)                 │          \u001b[38;5;34m51,328\u001b[0m │\n",
              "├──────────────────────────────────────┼─────────────────────────────┼─────────────────┤\n",
              "│ dense_28 (\u001b[38;5;33mDense\u001b[0m)                     │ (\u001b[38;5;45mNone\u001b[0m, \u001b[38;5;34m64\u001b[0m)                  │           \u001b[38;5;34m8,256\u001b[0m │\n",
              "├──────────────────────────────────────┼─────────────────────────────┼─────────────────┤\n",
              "│ dense_29 (\u001b[38;5;33mDense\u001b[0m)                     │ (\u001b[38;5;45mNone\u001b[0m, \u001b[38;5;34m1\u001b[0m)                   │              \u001b[38;5;34m65\u001b[0m │\n",
              "└──────────────────────────────────────┴─────────────────────────────┴─────────────────┘\n"
            ],
            "text/html": [
              "<pre style=\"white-space:pre;overflow-x:auto;line-height:normal;font-family:Menlo,'DejaVu Sans Mono',consolas,'Courier New',monospace\">┏━━━━━━━━━━━━━━━━━━━━━━━━━━━━━━━━━━━━━━┳━━━━━━━━━━━━━━━━━━━━━━━━━━━━━┳━━━━━━━━━━━━━━━━━┓\n",
              "┃<span style=\"font-weight: bold\"> Layer (type)                         </span>┃<span style=\"font-weight: bold\"> Output Shape                </span>┃<span style=\"font-weight: bold\">         Param # </span>┃\n",
              "┡━━━━━━━━━━━━━━━━━━━━━━━━━━━━━━━━━━━━━━╇━━━━━━━━━━━━━━━━━━━━━━━━━━━━━╇━━━━━━━━━━━━━━━━━┩\n",
              "│ dense_27 (<span style=\"color: #0087ff; text-decoration-color: #0087ff\">Dense</span>)                     │ (<span style=\"color: #00d7ff; text-decoration-color: #00d7ff\">None</span>, <span style=\"color: #00af00; text-decoration-color: #00af00\">128</span>)                 │          <span style=\"color: #00af00; text-decoration-color: #00af00\">51,328</span> │\n",
              "├──────────────────────────────────────┼─────────────────────────────┼─────────────────┤\n",
              "│ dense_28 (<span style=\"color: #0087ff; text-decoration-color: #0087ff\">Dense</span>)                     │ (<span style=\"color: #00d7ff; text-decoration-color: #00d7ff\">None</span>, <span style=\"color: #00af00; text-decoration-color: #00af00\">64</span>)                  │           <span style=\"color: #00af00; text-decoration-color: #00af00\">8,256</span> │\n",
              "├──────────────────────────────────────┼─────────────────────────────┼─────────────────┤\n",
              "│ dense_29 (<span style=\"color: #0087ff; text-decoration-color: #0087ff\">Dense</span>)                     │ (<span style=\"color: #00d7ff; text-decoration-color: #00d7ff\">None</span>, <span style=\"color: #00af00; text-decoration-color: #00af00\">1</span>)                   │              <span style=\"color: #00af00; text-decoration-color: #00af00\">65</span> │\n",
              "└──────────────────────────────────────┴─────────────────────────────┴─────────────────┘\n",
              "</pre>\n"
            ]
          },
          "metadata": {}
        },
        {
          "output_type": "display_data",
          "data": {
            "text/plain": [
              "\u001b[1m Total params: \u001b[0m\u001b[38;5;34m59,649\u001b[0m (233.00 KB)\n"
            ],
            "text/html": [
              "<pre style=\"white-space:pre;overflow-x:auto;line-height:normal;font-family:Menlo,'DejaVu Sans Mono',consolas,'Courier New',monospace\"><span style=\"font-weight: bold\"> Total params: </span><span style=\"color: #00af00; text-decoration-color: #00af00\">59,649</span> (233.00 KB)\n",
              "</pre>\n"
            ]
          },
          "metadata": {}
        },
        {
          "output_type": "display_data",
          "data": {
            "text/plain": [
              "\u001b[1m Trainable params: \u001b[0m\u001b[38;5;34m59,649\u001b[0m (233.00 KB)\n"
            ],
            "text/html": [
              "<pre style=\"white-space:pre;overflow-x:auto;line-height:normal;font-family:Menlo,'DejaVu Sans Mono',consolas,'Courier New',monospace\"><span style=\"font-weight: bold\"> Trainable params: </span><span style=\"color: #00af00; text-decoration-color: #00af00\">59,649</span> (233.00 KB)\n",
              "</pre>\n"
            ]
          },
          "metadata": {}
        },
        {
          "output_type": "display_data",
          "data": {
            "text/plain": [
              "\u001b[1m Non-trainable params: \u001b[0m\u001b[38;5;34m0\u001b[0m (0.00 B)\n"
            ],
            "text/html": [
              "<pre style=\"white-space:pre;overflow-x:auto;line-height:normal;font-family:Menlo,'DejaVu Sans Mono',consolas,'Courier New',monospace\"><span style=\"font-weight: bold\"> Non-trainable params: </span><span style=\"color: #00af00; text-decoration-color: #00af00\">0</span> (0.00 B)\n",
              "</pre>\n"
            ]
          },
          "metadata": {}
        }
      ]
    },
    {
      "cell_type": "code",
      "source": [
        "model = Sequential([\n",
        "    Dense(128, activation='relu', input_shape=(1,)),\n",
        "    Dense(64, activation='relu'),\n",
        "    Dense(1, activation='linear')\n",
        "])\n",
        "model.compile(loss ='mse',optimizer='adam', metrics= ['mae'])\n",
        "model.summary()"
      ],
      "metadata": {
        "colab": {
          "base_uri": "https://localhost:8080/",
          "height": 238
        },
        "id": "xZVR0geWVcEp",
        "outputId": "68d859df-e373-405e-9829-8718fcf31986"
      },
      "execution_count": 108,
      "outputs": [
        {
          "output_type": "display_data",
          "data": {
            "text/plain": [
              "\u001b[1mModel: \"sequential_13\"\u001b[0m\n"
            ],
            "text/html": [
              "<pre style=\"white-space:pre;overflow-x:auto;line-height:normal;font-family:Menlo,'DejaVu Sans Mono',consolas,'Courier New',monospace\"><span style=\"font-weight: bold\">Model: \"sequential_13\"</span>\n",
              "</pre>\n"
            ]
          },
          "metadata": {}
        },
        {
          "output_type": "display_data",
          "data": {
            "text/plain": [
              "┏━━━━━━━━━━━━━━━━━━━━━━━━━━━━━━━━━━━━━━┳━━━━━━━━━━━━━━━━━━━━━━━━━━━━━┳━━━━━━━━━━━━━━━━━┓\n",
              "┃\u001b[1m \u001b[0m\u001b[1mLayer (type)                        \u001b[0m\u001b[1m \u001b[0m┃\u001b[1m \u001b[0m\u001b[1mOutput Shape               \u001b[0m\u001b[1m \u001b[0m┃\u001b[1m \u001b[0m\u001b[1m        Param #\u001b[0m\u001b[1m \u001b[0m┃\n",
              "┡━━━━━━━━━━━━━━━━━━━━━━━━━━━━━━━━━━━━━━╇━━━━━━━━━━━━━━━━━━━━━━━━━━━━━╇━━━━━━━━━━━━━━━━━┩\n",
              "│ dense_24 (\u001b[38;5;33mDense\u001b[0m)                     │ (\u001b[38;5;45mNone\u001b[0m, \u001b[38;5;34m128\u001b[0m)                 │             \u001b[38;5;34m256\u001b[0m │\n",
              "├──────────────────────────────────────┼─────────────────────────────┼─────────────────┤\n",
              "│ dense_25 (\u001b[38;5;33mDense\u001b[0m)                     │ (\u001b[38;5;45mNone\u001b[0m, \u001b[38;5;34m64\u001b[0m)                  │           \u001b[38;5;34m8,256\u001b[0m │\n",
              "├──────────────────────────────────────┼─────────────────────────────┼─────────────────┤\n",
              "│ dense_26 (\u001b[38;5;33mDense\u001b[0m)                     │ (\u001b[38;5;45mNone\u001b[0m, \u001b[38;5;34m1\u001b[0m)                   │              \u001b[38;5;34m65\u001b[0m │\n",
              "└──────────────────────────────────────┴─────────────────────────────┴─────────────────┘\n"
            ],
            "text/html": [
              "<pre style=\"white-space:pre;overflow-x:auto;line-height:normal;font-family:Menlo,'DejaVu Sans Mono',consolas,'Courier New',monospace\">┏━━━━━━━━━━━━━━━━━━━━━━━━━━━━━━━━━━━━━━┳━━━━━━━━━━━━━━━━━━━━━━━━━━━━━┳━━━━━━━━━━━━━━━━━┓\n",
              "┃<span style=\"font-weight: bold\"> Layer (type)                         </span>┃<span style=\"font-weight: bold\"> Output Shape                </span>┃<span style=\"font-weight: bold\">         Param # </span>┃\n",
              "┡━━━━━━━━━━━━━━━━━━━━━━━━━━━━━━━━━━━━━━╇━━━━━━━━━━━━━━━━━━━━━━━━━━━━━╇━━━━━━━━━━━━━━━━━┩\n",
              "│ dense_24 (<span style=\"color: #0087ff; text-decoration-color: #0087ff\">Dense</span>)                     │ (<span style=\"color: #00d7ff; text-decoration-color: #00d7ff\">None</span>, <span style=\"color: #00af00; text-decoration-color: #00af00\">128</span>)                 │             <span style=\"color: #00af00; text-decoration-color: #00af00\">256</span> │\n",
              "├──────────────────────────────────────┼─────────────────────────────┼─────────────────┤\n",
              "│ dense_25 (<span style=\"color: #0087ff; text-decoration-color: #0087ff\">Dense</span>)                     │ (<span style=\"color: #00d7ff; text-decoration-color: #00d7ff\">None</span>, <span style=\"color: #00af00; text-decoration-color: #00af00\">64</span>)                  │           <span style=\"color: #00af00; text-decoration-color: #00af00\">8,256</span> │\n",
              "├──────────────────────────────────────┼─────────────────────────────┼─────────────────┤\n",
              "│ dense_26 (<span style=\"color: #0087ff; text-decoration-color: #0087ff\">Dense</span>)                     │ (<span style=\"color: #00d7ff; text-decoration-color: #00d7ff\">None</span>, <span style=\"color: #00af00; text-decoration-color: #00af00\">1</span>)                   │              <span style=\"color: #00af00; text-decoration-color: #00af00\">65</span> │\n",
              "└──────────────────────────────────────┴─────────────────────────────┴─────────────────┘\n",
              "</pre>\n"
            ]
          },
          "metadata": {}
        },
        {
          "output_type": "display_data",
          "data": {
            "text/plain": [
              "\u001b[1m Total params: \u001b[0m\u001b[38;5;34m8,577\u001b[0m (33.50 KB)\n"
            ],
            "text/html": [
              "<pre style=\"white-space:pre;overflow-x:auto;line-height:normal;font-family:Menlo,'DejaVu Sans Mono',consolas,'Courier New',monospace\"><span style=\"font-weight: bold\"> Total params: </span><span style=\"color: #00af00; text-decoration-color: #00af00\">8,577</span> (33.50 KB)\n",
              "</pre>\n"
            ]
          },
          "metadata": {}
        },
        {
          "output_type": "display_data",
          "data": {
            "text/plain": [
              "\u001b[1m Trainable params: \u001b[0m\u001b[38;5;34m8,577\u001b[0m (33.50 KB)\n"
            ],
            "text/html": [
              "<pre style=\"white-space:pre;overflow-x:auto;line-height:normal;font-family:Menlo,'DejaVu Sans Mono',consolas,'Courier New',monospace\"><span style=\"font-weight: bold\"> Trainable params: </span><span style=\"color: #00af00; text-decoration-color: #00af00\">8,577</span> (33.50 KB)\n",
              "</pre>\n"
            ]
          },
          "metadata": {}
        },
        {
          "output_type": "display_data",
          "data": {
            "text/plain": [
              "\u001b[1m Non-trainable params: \u001b[0m\u001b[38;5;34m0\u001b[0m (0.00 B)\n"
            ],
            "text/html": [
              "<pre style=\"white-space:pre;overflow-x:auto;line-height:normal;font-family:Menlo,'DejaVu Sans Mono',consolas,'Courier New',monospace\"><span style=\"font-weight: bold\"> Non-trainable params: </span><span style=\"color: #00af00; text-decoration-color: #00af00\">0</span> (0.00 B)\n",
              "</pre>\n"
            ]
          },
          "metadata": {}
        }
      ]
    },
    {
      "cell_type": "code",
      "source": [
        "print(X_treino.shape)\n",
        "print(X_teste.shape)"
      ],
      "metadata": {
        "colab": {
          "base_uri": "https://localhost:8080/"
        },
        "id": "KNA_qyiicRpE",
        "outputId": "95f6e8c2-92cd-44df-fa2a-375085e73ac7"
      },
      "execution_count": 105,
      "outputs": [
        {
          "output_type": "stream",
          "name": "stdout",
          "text": [
            "(400,)\n",
            "(3472,)\n"
          ]
        }
      ]
    },
    {
      "cell_type": "code",
      "source": [
        "import matplotlib.pyplot as plt\n",
        "\n",
        "history = model.fit(X_treino, y_treino, epochs=50, batch_size=32, validation_data=(X_teste, y_teste), verbose=1)\n",
        "plt.plot(history.history['mae'])\n",
        "plt.plot(history.history['val_mae'])\n",
        "plt.ylabel('mae')\n",
        "plt.xlabel('Epoch')\n",
        "plt.legend(['Train', 'Validation'], loc='upper left')\n",
        "plt.show()"
      ],
      "metadata": {
        "colab": {
          "base_uri": "https://localhost:8080/",
          "height": 1000
        },
        "id": "q8ElaESEUsDZ",
        "outputId": "b0c64590-9bfd-452b-ea87-8a8ab4b6b70d"
      },
      "execution_count": 109,
      "outputs": [
        {
          "output_type": "stream",
          "name": "stdout",
          "text": [
            "Epoch 1/50\n",
            "\u001b[1m13/13\u001b[0m \u001b[32m━━━━━━━━━━━━━━━━━━━━\u001b[0m\u001b[37m\u001b[0m \u001b[1m2s\u001b[0m 28ms/step - loss: 267696654516224.0000 - mae: 5214247.0000 - val_loss: 47122682478592.0000 - val_mae: 1682808.0000\n",
            "Epoch 2/50\n",
            "\u001b[1m13/13\u001b[0m \u001b[32m━━━━━━━━━━━━━━━━━━━━\u001b[0m\u001b[37m\u001b[0m \u001b[1m0s\u001b[0m 16ms/step - loss: 382807448748032.0000 - mae: 5412794.0000 - val_loss: 47122636341248.0000 - val_mae: 1682793.5000\n",
            "Epoch 3/50\n",
            "\u001b[1m13/13\u001b[0m \u001b[32m━━━━━━━━━━━━━━━━━━━━\u001b[0m\u001b[37m\u001b[0m \u001b[1m0s\u001b[0m 13ms/step - loss: 353871280996352.0000 - mae: 5225815.0000 - val_loss: 47122539872256.0000 - val_mae: 1682800.3750\n",
            "Epoch 4/50\n",
            "\u001b[1m13/13\u001b[0m \u001b[32m━━━━━━━━━━━━━━━━━━━━\u001b[0m\u001b[37m\u001b[0m \u001b[1m0s\u001b[0m 16ms/step - loss: 260279380213760.0000 - mae: 4932610.5000 - val_loss: 47122397265920.0000 - val_mae: 1682847.5000\n",
            "Epoch 5/50\n",
            "\u001b[1m13/13\u001b[0m \u001b[32m━━━━━━━━━━━━━━━━━━━━\u001b[0m\u001b[37m\u001b[0m \u001b[1m0s\u001b[0m 15ms/step - loss: 408992153075712.0000 - mae: 5385400.5000 - val_loss: 47122233688064.0000 - val_mae: 1682913.7500\n",
            "Epoch 6/50\n",
            "\u001b[1m13/13\u001b[0m \u001b[32m━━━━━━━━━━━━━━━━━━━━\u001b[0m\u001b[37m\u001b[0m \u001b[1m0s\u001b[0m 13ms/step - loss: 309651539230720.0000 - mae: 5120736.5000 - val_loss: 47122007195648.0000 - val_mae: 1683002.5000\n",
            "Epoch 7/50\n",
            "\u001b[1m13/13\u001b[0m \u001b[32m━━━━━━━━━━━━━━━━━━━━\u001b[0m\u001b[37m\u001b[0m \u001b[1m0s\u001b[0m 13ms/step - loss: 405416290811904.0000 - mae: 5512861.0000 - val_loss: 47121709400064.0000 - val_mae: 1683122.6250\n",
            "Epoch 8/50\n",
            "\u001b[1m13/13\u001b[0m \u001b[32m━━━━━━━━━━━━━━━━━━━━\u001b[0m\u001b[37m\u001b[0m \u001b[1m0s\u001b[0m 15ms/step - loss: 367610076069888.0000 - mae: 5278350.5000 - val_loss: 47121298358272.0000 - val_mae: 1683277.2500\n",
            "Epoch 9/50\n",
            "\u001b[1m13/13\u001b[0m \u001b[32m━━━━━━━━━━━━━━━━━━━━\u001b[0m\u001b[37m\u001b[0m \u001b[1m0s\u001b[0m 15ms/step - loss: 365641202663424.0000 - mae: 5409254.5000 - val_loss: 47120774070272.0000 - val_mae: 1683476.5000\n",
            "Epoch 10/50\n",
            "\u001b[1m13/13\u001b[0m \u001b[32m━━━━━━━━━━━━━━━━━━━━\u001b[0m\u001b[37m\u001b[0m \u001b[1m0s\u001b[0m 12ms/step - loss: 288301357465600.0000 - mae: 5169088.5000 - val_loss: 47120165896192.0000 - val_mae: 1683722.6250\n",
            "Epoch 11/50\n",
            "\u001b[1m13/13\u001b[0m \u001b[32m━━━━━━━━━━━━━━━━━━━━\u001b[0m\u001b[37m\u001b[0m \u001b[1m0s\u001b[0m 18ms/step - loss: 326805269512192.0000 - mae: 5285100.5000 - val_loss: 47119381561344.0000 - val_mae: 1684032.0000\n",
            "Epoch 12/50\n",
            "\u001b[1m13/13\u001b[0m \u001b[32m━━━━━━━━━━━━━━━━━━━━\u001b[0m\u001b[37m\u001b[0m \u001b[1m0s\u001b[0m 30ms/step - loss: 331016921153536.0000 - mae: 5200325.5000 - val_loss: 47118383316992.0000 - val_mae: 1684413.2500\n",
            "Epoch 13/50\n",
            "\u001b[1m13/13\u001b[0m \u001b[32m━━━━━━━━━━━━━━━━━━━━\u001b[0m\u001b[37m\u001b[0m \u001b[1m0s\u001b[0m 30ms/step - loss: 291691361730560.0000 - mae: 4985430.5000 - val_loss: 47117213106176.0000 - val_mae: 1684871.6250\n",
            "Epoch 14/50\n",
            "\u001b[1m13/13\u001b[0m \u001b[32m━━━━━━━━━━━━━━━━━━━━\u001b[0m\u001b[37m\u001b[0m \u001b[1m1s\u001b[0m 30ms/step - loss: 269221250465792.0000 - mae: 5167902.0000 - val_loss: 47115787042816.0000 - val_mae: 1685417.6250\n",
            "Epoch 15/50\n",
            "\u001b[1m13/13\u001b[0m \u001b[32m━━━━━━━━━━━━━━━━━━━━\u001b[0m\u001b[37m\u001b[0m \u001b[1m1s\u001b[0m 31ms/step - loss: 275817934356480.0000 - mae: 5160133.5000 - val_loss: 47114193207296.0000 - val_mae: 1686045.5000\n",
            "Epoch 16/50\n",
            "\u001b[1m13/13\u001b[0m \u001b[32m━━━━━━━━━━━━━━━━━━━━\u001b[0m\u001b[37m\u001b[0m \u001b[1m0s\u001b[0m 20ms/step - loss: 445772977930240.0000 - mae: 5437800.0000 - val_loss: 47112305770496.0000 - val_mae: 1686778.5000\n",
            "Epoch 17/50\n",
            "\u001b[1m13/13\u001b[0m \u001b[32m━━━━━━━━━━━━━━━━━━━━\u001b[0m\u001b[37m\u001b[0m \u001b[1m0s\u001b[0m 12ms/step - loss: 370295806361600.0000 - mae: 5376261.0000 - val_loss: 47110237978624.0000 - val_mae: 1687596.2500\n",
            "Epoch 18/50\n",
            "\u001b[1m13/13\u001b[0m \u001b[32m━━━━━━━━━━━━━━━━━━━━\u001b[0m\u001b[37m\u001b[0m \u001b[1m0s\u001b[0m 15ms/step - loss: 345934684749824.0000 - mae: 5307244.0000 - val_loss: 47107830448128.0000 - val_mae: 1688540.6250\n",
            "Epoch 19/50\n",
            "\u001b[1m13/13\u001b[0m \u001b[32m━━━━━━━━━━━━━━━━━━━━\u001b[0m\u001b[37m\u001b[0m \u001b[1m0s\u001b[0m 15ms/step - loss: 270255901376512.0000 - mae: 5082704.0000 - val_loss: 47105229979648.0000 - val_mae: 1689572.3750\n",
            "Epoch 20/50\n",
            "\u001b[1m13/13\u001b[0m \u001b[32m━━━━━━━━━━━━━━━━━━━━\u001b[0m\u001b[37m\u001b[0m \u001b[1m0s\u001b[0m 13ms/step - loss: 369458421956608.0000 - mae: 5208150.5000 - val_loss: 47102243635200.0000 - val_mae: 1690751.7500\n",
            "Epoch 21/50\n",
            "\u001b[1m13/13\u001b[0m \u001b[32m━━━━━━━━━━━━━━━━━━━━\u001b[0m\u001b[37m\u001b[0m \u001b[1m0s\u001b[0m 15ms/step - loss: 231472984227840.0000 - mae: 4882257.0000 - val_loss: 47098967883776.0000 - val_mae: 1692058.7500\n",
            "Epoch 22/50\n",
            "\u001b[1m13/13\u001b[0m \u001b[32m━━━━━━━━━━━━━━━━━━━━\u001b[0m\u001b[37m\u001b[0m \u001b[1m0s\u001b[0m 13ms/step - loss: 428955697938432.0000 - mae: 5542141.5000 - val_loss: 47095243341824.0000 - val_mae: 1693542.8750\n",
            "Epoch 23/50\n",
            "\u001b[1m13/13\u001b[0m \u001b[32m━━━━━━━━━━━━━━━━━━━━\u001b[0m\u001b[37m\u001b[0m \u001b[1m0s\u001b[0m 12ms/step - loss: 352705432256512.0000 - mae: 5437724.0000 - val_loss: 47091254558720.0000 - val_mae: 1695134.2500\n",
            "Epoch 24/50\n",
            "\u001b[1m13/13\u001b[0m \u001b[32m━━━━━━━━━━━━━━━━━━━━\u001b[0m\u001b[37m\u001b[0m \u001b[1m0s\u001b[0m 13ms/step - loss: 272179694403584.0000 - mae: 4896025.0000 - val_loss: 47087047671808.0000 - val_mae: 1696846.2500\n",
            "Epoch 25/50\n",
            "\u001b[1m13/13\u001b[0m \u001b[32m━━━━━━━━━━━━━━━━━━━━\u001b[0m\u001b[37m\u001b[0m \u001b[1m0s\u001b[0m 16ms/step - loss: 270113915797504.0000 - mae: 4879238.0000 - val_loss: 47082312302592.0000 - val_mae: 1698767.8750\n",
            "Epoch 26/50\n",
            "\u001b[1m13/13\u001b[0m \u001b[32m━━━━━━━━━━━━━━━━━━━━\u001b[0m\u001b[37m\u001b[0m \u001b[1m0s\u001b[0m 12ms/step - loss: 348310439198720.0000 - mae: 5311720.0000 - val_loss: 47077207834624.0000 - val_mae: 1700854.2500\n",
            "Epoch 27/50\n",
            "\u001b[1m13/13\u001b[0m \u001b[32m━━━━━━━━━━━━━━━━━━━━\u001b[0m\u001b[37m\u001b[0m \u001b[1m0s\u001b[0m 12ms/step - loss: 277257268494336.0000 - mae: 5060612.5000 - val_loss: 47071738462208.0000 - val_mae: 1703097.7500\n",
            "Epoch 28/50\n",
            "\u001b[1m13/13\u001b[0m \u001b[32m━━━━━━━━━━━━━━━━━━━━\u001b[0m\u001b[37m\u001b[0m \u001b[1m0s\u001b[0m 15ms/step - loss: 320555152572416.0000 - mae: 5226937.0000 - val_loss: 47065908379648.0000 - val_mae: 1705532.0000\n",
            "Epoch 29/50\n",
            "\u001b[1m13/13\u001b[0m \u001b[32m━━━━━━━━━━━━━━━━━━━━\u001b[0m\u001b[37m\u001b[0m \u001b[1m0s\u001b[0m 15ms/step - loss: 251653995364352.0000 - mae: 4925777.0000 - val_loss: 47059730169856.0000 - val_mae: 1708109.6250\n",
            "Epoch 30/50\n",
            "\u001b[1m13/13\u001b[0m \u001b[32m━━━━━━━━━━━━━━━━━━━━\u001b[0m\u001b[37m\u001b[0m \u001b[1m0s\u001b[0m 15ms/step - loss: 337665027211264.0000 - mae: 5306144.0000 - val_loss: 47052994117632.0000 - val_mae: 1710942.2500\n",
            "Epoch 31/50\n",
            "\u001b[1m13/13\u001b[0m \u001b[32m━━━━━━━━━━━━━━━━━━━━\u001b[0m\u001b[37m\u001b[0m \u001b[1m0s\u001b[0m 13ms/step - loss: 308962062761984.0000 - mae: 5347220.5000 - val_loss: 47046044155904.0000 - val_mae: 1713915.8750\n",
            "Epoch 32/50\n",
            "\u001b[1m13/13\u001b[0m \u001b[32m━━━━━━━━━━━━━━━━━━━━\u001b[0m\u001b[37m\u001b[0m \u001b[1m0s\u001b[0m 13ms/step - loss: 291164288712704.0000 - mae: 5190325.0000 - val_loss: 47038649597952.0000 - val_mae: 1717117.6250\n",
            "Epoch 33/50\n",
            "\u001b[1m13/13\u001b[0m \u001b[32m━━━━━━━━━━━━━━━━━━━━\u001b[0m\u001b[37m\u001b[0m \u001b[1m0s\u001b[0m 12ms/step - loss: 308665642909696.0000 - mae: 5081769.5000 - val_loss: 47030940467200.0000 - val_mae: 1720484.1250\n",
            "Epoch 34/50\n",
            "\u001b[1m13/13\u001b[0m \u001b[32m━━━━━━━━━━━━━━━━━━━━\u001b[0m\u001b[37m\u001b[0m \u001b[1m0s\u001b[0m 15ms/step - loss: 252705624817664.0000 - mae: 4943321.0000 - val_loss: 47022765768704.0000 - val_mae: 1724088.1250\n",
            "Epoch 35/50\n",
            "\u001b[1m13/13\u001b[0m \u001b[32m━━━━━━━━━━━━━━━━━━━━\u001b[0m\u001b[37m\u001b[0m \u001b[1m0s\u001b[0m 12ms/step - loss: 301665819295744.0000 - mae: 5352884.5000 - val_loss: 47014070976512.0000 - val_mae: 1728005.8750\n",
            "Epoch 36/50\n",
            "\u001b[1m13/13\u001b[0m \u001b[32m━━━━━━━━━━━━━━━━━━━━\u001b[0m\u001b[37m\u001b[0m \u001b[1m0s\u001b[0m 15ms/step - loss: 291821552926720.0000 - mae: 5193290.5000 - val_loss: 47005111943168.0000 - val_mae: 1732074.7500\n",
            "Epoch 37/50\n",
            "\u001b[1m13/13\u001b[0m \u001b[32m━━━━━━━━━━━━━━━━━━━━\u001b[0m\u001b[37m\u001b[0m \u001b[1m0s\u001b[0m 15ms/step - loss: 400666459635712.0000 - mae: 5629016.0000 - val_loss: 46995808976896.0000 - val_mae: 1736377.2500\n",
            "Epoch 38/50\n",
            "\u001b[1m13/13\u001b[0m \u001b[32m━━━━━━━━━━━━━━━━━━━━\u001b[0m\u001b[37m\u001b[0m \u001b[1m0s\u001b[0m 12ms/step - loss: 296222015356928.0000 - mae: 5191284.0000 - val_loss: 46986334044160.0000 - val_mae: 1740836.3750\n",
            "Epoch 39/50\n",
            "\u001b[1m13/13\u001b[0m \u001b[32m━━━━━━━━━━━━━━━━━━━━\u001b[0m\u001b[37m\u001b[0m \u001b[1m0s\u001b[0m 15ms/step - loss: 347667972489216.0000 - mae: 5489089.5000 - val_loss: 46976502595584.0000 - val_mae: 1745558.0000\n",
            "Epoch 40/50\n",
            "\u001b[1m13/13\u001b[0m \u001b[32m━━━━━━━━━━━━━━━━━━━━\u001b[0m\u001b[37m\u001b[0m \u001b[1m0s\u001b[0m 16ms/step - loss: 349576515026944.0000 - mae: 5129517.5000 - val_loss: 46966402711552.0000 - val_mae: 1750470.7500\n",
            "Epoch 41/50\n",
            "\u001b[1m13/13\u001b[0m \u001b[32m━━━━━━━━━━━━━━━━━━━━\u001b[0m\u001b[37m\u001b[0m \u001b[1m0s\u001b[0m 16ms/step - loss: 303964566323200.0000 - mae: 5109636.5000 - val_loss: 46955916951552.0000 - val_mae: 1755704.6250\n",
            "Epoch 42/50\n",
            "\u001b[1m13/13\u001b[0m \u001b[32m━━━━━━━━━━━━━━━━━━━━\u001b[0m\u001b[37m\u001b[0m \u001b[1m0s\u001b[0m 12ms/step - loss: 288242234556416.0000 - mae: 5269165.0000 - val_loss: 46944890126336.0000 - val_mae: 1761323.2500\n",
            "Epoch 43/50\n",
            "\u001b[1m13/13\u001b[0m \u001b[32m━━━━━━━━━━━━━━━━━━━━\u001b[0m\u001b[37m\u001b[0m \u001b[1m0s\u001b[0m 15ms/step - loss: 330972461531136.0000 - mae: 5213295.5000 - val_loss: 46934043656192.0000 - val_mae: 1767001.1250\n",
            "Epoch 44/50\n",
            "\u001b[1m13/13\u001b[0m \u001b[32m━━━━━━━━━━━━━━━━━━━━\u001b[0m\u001b[37m\u001b[0m \u001b[1m0s\u001b[0m 12ms/step - loss: 331412158808064.0000 - mae: 5278180.5000 - val_loss: 46922991665152.0000 - val_mae: 1772900.0000\n",
            "Epoch 45/50\n",
            "\u001b[1m13/13\u001b[0m \u001b[32m━━━━━━━━━━━━━━━━━━━━\u001b[0m\u001b[37m\u001b[0m \u001b[1m0s\u001b[0m 15ms/step - loss: 528179341033472.0000 - mae: 5905114.5000 - val_loss: 46911557992448.0000 - val_mae: 1779220.0000\n",
            "Epoch 46/50\n",
            "\u001b[1m13/13\u001b[0m \u001b[32m━━━━━━━━━━━━━━━━━━━━\u001b[0m\u001b[37m\u001b[0m \u001b[1m0s\u001b[0m 12ms/step - loss: 399991814225920.0000 - mae: 5546695.5000 - val_loss: 46900053016576.0000 - val_mae: 1785751.1250\n",
            "Epoch 47/50\n",
            "\u001b[1m13/13\u001b[0m \u001b[32m━━━━━━━━━━━━━━━━━━━━\u001b[0m\u001b[37m\u001b[0m \u001b[1m0s\u001b[0m 15ms/step - loss: 272373253144576.0000 - mae: 5187932.5000 - val_loss: 46888514486272.0000 - val_mae: 1792505.2500\n",
            "Epoch 48/50\n",
            "\u001b[1m13/13\u001b[0m \u001b[32m━━━━━━━━━━━━━━━━━━━━\u001b[0m\u001b[37m\u001b[0m \u001b[1m0s\u001b[0m 13ms/step - loss: 322563620208640.0000 - mae: 5352243.5000 - val_loss: 46876866904064.0000 - val_mae: 1799552.7500\n",
            "Epoch 49/50\n",
            "\u001b[1m13/13\u001b[0m \u001b[32m━━━━━━━━━━━━━━━━━━━━\u001b[0m\u001b[37m\u001b[0m \u001b[1m0s\u001b[0m 15ms/step - loss: 345325940244480.0000 - mae: 5482524.5000 - val_loss: 46865227710464.0000 - val_mae: 1806881.0000\n",
            "Epoch 50/50\n",
            "\u001b[1m13/13\u001b[0m \u001b[32m━━━━━━━━━━━━━━━━━━━━\u001b[0m\u001b[37m\u001b[0m \u001b[1m0s\u001b[0m 13ms/step - loss: 391198942429184.0000 - mae: 5509932.5000 - val_loss: 46853416550400.0000 - val_mae: 1814596.1250\n"
          ]
        },
        {
          "output_type": "display_data",
          "data": {
            "text/plain": [
              "<Figure size 640x480 with 1 Axes>"
            ],
            "image/png": "[encoded data removed]"
          },
          "metadata": {}
        }
      ]
    },
    {
      "cell_type": "markdown",
      "source": [
        "**Quantidade de vezes que o modelo esta sendo aplicado e com pequenas variaçoes nas açoes"
      ],
      "metadata": {
        "id": "Gfm2sOdQtXMG"
      }
    },
    {
      "cell_type": "code",
      "source": [
        "import numpy as np\n",
        "from tensorflow.keras.models import Sequential\n",
        "from tensorflow.keras.layers import Dense"
      ],
      "metadata": {
        "id": "W72S6g2VdaDM"
      },
      "execution_count": 117,
      "outputs": []
    },
    {
      "cell_type": "code",
      "source": [
        "X = np.random.randn(100, 400)\n",
        "y = np.random.randn(100)"
      ],
      "metadata": {
        "id": "qj0dsJ5QdpLD"
      },
      "execution_count": 120,
      "outputs": []
    },
    {
      "cell_type": "code",
      "source": [
        "model = Sequential()\n",
        "model.add(Dense(64, input_dim=400, activation='relu'))\n",
        "model.add(Dense(1))"
      ],
      "metadata": {
        "id": "fLvRyqwXdJXP"
      },
      "execution_count": 118,
      "outputs": []
    },
    {
      "cell_type": "code",
      "source": [
        "model.compile(loss='mean_squared_error', optimizer='adam')\n",
        "model.fit(X, y, epochs=10, batch_size=1, verbose=2)"
      ],
      "metadata": {
        "colab": {
          "base_uri": "https://localhost:8080/"
        },
        "id": "-hll7QuMsuuC",
        "outputId": "931a0667-adde-43eb-8274-7ee009961388"
      },
      "execution_count": 121,
      "outputs": [
        {
          "output_type": "stream",
          "name": "stdout",
          "text": [
            "Epoch 1/10\n",
            "100/100 - 1s - 7ms/step - loss: 2.2405\n",
            "Epoch 2/10\n",
            "100/100 - 0s - 1ms/step - loss: 1.8714\n",
            "Epoch 3/10\n",
            "100/100 - 0s - 1ms/step - loss: 0.7124\n",
            "Epoch 4/10\n",
            "100/100 - 0s - 1ms/step - loss: 0.4079\n",
            "Epoch 5/10\n",
            "100/100 - 0s - 1ms/step - loss: 0.3634\n",
            "Epoch 6/10\n",
            "100/100 - 0s - 1ms/step - loss: 0.4127\n",
            "Epoch 7/10\n",
            "100/100 - 0s - 2ms/step - loss: 0.4780\n",
            "Epoch 8/10\n",
            "100/100 - 0s - 1ms/step - loss: 0.5131\n",
            "Epoch 9/10\n",
            "100/100 - 0s - 1ms/step - loss: 0.4378\n",
            "Epoch 10/10\n",
            "100/100 - 0s - 1ms/step - loss: 0.3311\n"
          ]
        },
        {
          "output_type": "execute_result",
          "data": {
            "text/plain": [
              "<keras.src.callbacks.history.History at 0x7c4e452336d0>"
            ]
          },
          "metadata": {},
          "execution_count": 121
        }
      ]
    },
    {
      "cell_type": "code",
      "source": [],
      "metadata": {
        "id": "o0mN96BOtxxu"
      },
      "execution_count": 6,
      "outputs": []
    }
  ],
  "metadata": {
    "colab": {
      "provenance": [],
      "authorship_tag": "ABX9TyMqc9XFOnRbO07wAaqeNpR+",
      "include_colab_link": true
    },
    "kernelspec": {
      "display_name": "Python 3",
      "name": "python3"
    },
    "language_info": {
      "name": "python"
    }
  },
  "nbformat": 4,
  "nbformat_minor": 0
}